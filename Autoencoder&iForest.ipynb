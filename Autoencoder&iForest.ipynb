{
 "cells": [
  {
   "cell_type": "markdown",
   "metadata": {},
   "source": [
    "# Module 7 Unsupervised Machine Learning Techniques on Healthcare Data"
   ]
  },
  {
   "cell_type": "markdown",
   "metadata": {},
   "source": [
    "Yiheng Shen ys3323"
   ]
  },
  {
   "cell_type": "markdown",
   "metadata": {},
   "source": [
    "This article is to perform two unsupervised learning techniques: unsupervised Autoencoder and iForest with my improved 22 features, and analyze the result of anomalous providers."
   ]
  },
  {
   "cell_type": "markdown",
   "metadata": {},
   "source": [
    "### Undersampling"
   ]
  },
  {
   "cell_type": "markdown",
   "metadata": {},
   "source": [
    "Due to the large volume of data, I used undersampling on the data"
   ]
  },
  {
   "cell_type": "code",
   "execution_count": 3,
   "metadata": {},
   "outputs": [],
   "source": [
    "import numpy as np\n",
    "import pandas as pd\n",
    "from imblearn.under_sampling import RandomUnderSampler\n",
    "\n",
    "#load cleaned data\n",
    "df = pd.read_csv('healthcare_cleaned.csv')"
   ]
  },
  {
   "cell_type": "code",
   "execution_count": 4,
   "metadata": {},
   "outputs": [],
   "source": [
    "y = df['Provider_Id'].copy()\n",
    "rus = RandomUnderSampler(random_state=0)\n",
    "data_resampled, y_resampled = rus.fit_sample(df, y)"
   ]
  },
  {
   "cell_type": "code",
   "execution_count": 5,
   "metadata": {},
   "outputs": [
    {
     "data": {
      "text/plain": [
       "3337"
      ]
     },
     "execution_count": 5,
     "metadata": {},
     "output_type": "execute_result"
    }
   ],
   "source": [
    "len(data_resampled)"
   ]
  },
  {
   "cell_type": "markdown",
   "metadata": {},
   "source": [
    "### Benchmark"
   ]
  },
  {
   "cell_type": "markdown",
   "metadata": {},
   "source": [
    "These features will be my benchmark for anomaly detection: 'Average_Covered_Charges', 'Average_Covered_Charge_vs_Income_Ratio', \n",
    " 'Average_Total_Payments', 'Average_Total_Payments_by_Income_Ratio', \n",
    "                'Average_Medicare_Payments', 'Average_Medicare_Payments_by_Income_Ratio'\t"
   ]
  },
  {
   "cell_type": "code",
   "execution_count": 6,
   "metadata": {},
   "outputs": [],
   "source": [
    "benchmark = data_resampled[['Average_Covered_Charges', 'Average_Covered_Charge_vs_Income_Ratio', \n",
    "                'Average_Total_Payments', 'Average_Total_Payments_by_Income_Ratio', \n",
    "                'Average_Medicare_Payments', 'Average_Medicare_Payments_by_Income_Ratioe']]"
   ]
  },
  {
   "cell_type": "markdown",
   "metadata": {},
   "source": [
    "### Encoding and Standardizing"
   ]
  },
  {
   "cell_type": "code",
   "execution_count": 7,
   "metadata": {},
   "outputs": [],
   "source": [
    "from sklearn.preprocessing import OneHotEncoder\n",
    "from sklearn.preprocessing import  StandardScaler"
   ]
  },
  {
   "cell_type": "code",
   "execution_count": 8,
   "metadata": {},
   "outputs": [],
   "source": [
    "#one hot encoder on df\n",
    "ohe = OneHotEncoder(sparse = False)\n",
    "category = ohe.fit_transform(data_resampled[['Provider_State']])\n",
    "category = pd.DataFrame(category,index = data_resampled.index, columns = ohe.get_feature_names(),dtype = np.int8)"
   ]
  },
  {
   "cell_type": "code",
   "execution_count": 9,
   "metadata": {},
   "outputs": [],
   "source": [
    "#standardize\n",
    "numeric = data_resampled[data_resampled.columns[9:34]]\n",
    "std = StandardScaler().fit_transform(numeric)\n",
    "numeric = pd.DataFrame(std)\n",
    "numeric.columns = data_resampled.columns[9:34].values \n",
    "data = pd.concat([category,numeric],axis=1)"
   ]
  },
  {
   "cell_type": "markdown",
   "metadata": {},
   "source": [
    "### Split Data"
   ]
  },
  {
   "cell_type": "code",
   "execution_count": 10,
   "metadata": {},
   "outputs": [],
   "source": [
    "from sklearn.model_selection import train_test_split\n",
    "X = data\n",
    "X_train,X_test= train_test_split(X, random_state = 1)"
   ]
  },
  {
   "cell_type": "code",
   "execution_count": 11,
   "metadata": {},
   "outputs": [],
   "source": [
    "benchmark_test = X_test[['Average_Covered_Charges', 'Average_Covered_Charge_vs_Income_Ratio', \n",
    "                'Average_Total_Payments', 'Average_Total_Payments_by_Income_Ratio', \n",
    "                'Average_Medicare_Payments', 'Average_Medicare_Payments_by_Income_Ratioe']]"
   ]
  },
  {
   "cell_type": "markdown",
   "metadata": {},
   "source": [
    "## 1. Autoencoder\n",
    "An autoencoder is a special type of neural network that copies the input values to the output values and here we are interested in the hidden core layer because the hidden layers learn the most patterns of the data and ignore the “noises”."
   ]
  },
  {
   "cell_type": "markdown",
   "metadata": {},
   "source": [
    "### （1） clf1：hidden_neurons = [25, 2, 2, 25]\n",
    "The input layer and the output layer has 25 neurons each. There are two hidden layers, each has two neurons."
   ]
  },
  {
   "cell_type": "code",
   "execution_count": 9,
   "metadata": {
    "scrolled": true
   },
   "outputs": [
    {
     "name": "stderr",
     "output_type": "stream",
     "text": [
      "Using TensorFlow backend.\n"
     ]
    },
    {
     "name": "stdout",
     "output_type": "stream",
     "text": [
      "WARNING:tensorflow:From /Users/yihengshen/anaconda3/lib/python3.7/site-packages/tensorflow/python/ops/resource_variable_ops.py:435: colocate_with (from tensorflow.python.framework.ops) is deprecated and will be removed in a future version.\n",
      "Instructions for updating:\n",
      "Colocations handled automatically by placer.\n",
      "Model: \"sequential_1\"\n",
      "_________________________________________________________________\n",
      "Layer (type)                 Output Shape              Param #   \n",
      "=================================================================\n",
      "dense_1 (Dense)              (None, 76)                5852      \n",
      "_________________________________________________________________\n",
      "dropout_1 (Dropout)          (None, 76)                0         \n",
      "_________________________________________________________________\n",
      "dense_2 (Dense)              (None, 76)                5852      \n",
      "_________________________________________________________________\n",
      "dropout_2 (Dropout)          (None, 76)                0         \n",
      "_________________________________________________________________\n",
      "dense_3 (Dense)              (None, 25)                1925      \n",
      "_________________________________________________________________\n",
      "dropout_3 (Dropout)          (None, 25)                0         \n",
      "_________________________________________________________________\n",
      "dense_4 (Dense)              (None, 2)                 52        \n",
      "_________________________________________________________________\n",
      "dropout_4 (Dropout)          (None, 2)                 0         \n",
      "_________________________________________________________________\n",
      "dense_5 (Dense)              (None, 2)                 6         \n",
      "_________________________________________________________________\n",
      "dropout_5 (Dropout)          (None, 2)                 0         \n",
      "_________________________________________________________________\n",
      "dense_6 (Dense)              (None, 25)                75        \n",
      "_________________________________________________________________\n",
      "dropout_6 (Dropout)          (None, 25)                0         \n",
      "_________________________________________________________________\n",
      "dense_7 (Dense)              (None, 76)                1976      \n",
      "=================================================================\n",
      "Total params: 15,738\n",
      "Trainable params: 15,738\n",
      "Non-trainable params: 0\n",
      "_________________________________________________________________\n",
      "None\n",
      "WARNING:tensorflow:From /Users/yihengshen/anaconda3/lib/python3.7/site-packages/tensorflow/python/ops/math_ops.py:3066: to_int32 (from tensorflow.python.ops.math_ops) is deprecated and will be removed in a future version.\n",
      "Instructions for updating:\n",
      "Use tf.cast instead.\n",
      "Train on 2251 samples, validate on 251 samples\n",
      "Epoch 1/100\n",
      "2251/2251 [==============================] - 3s 1ms/step - loss: 156.3300 - val_loss: 120.0559\n",
      "Epoch 2/100\n",
      "2251/2251 [==============================] - 1s 239us/step - loss: 92.1787 - val_loss: 89.1222\n",
      "Epoch 3/100\n",
      "2251/2251 [==============================] - 0s 193us/step - loss: 70.3682 - val_loss: 73.3953\n",
      "Epoch 4/100\n",
      "2251/2251 [==============================] - 1s 280us/step - loss: 58.7848 - val_loss: 63.4868\n",
      "Epoch 5/100\n",
      "2251/2251 [==============================] - 0s 200us/step - loss: 51.3456 - val_loss: 56.4202\n",
      "Epoch 6/100\n",
      "2251/2251 [==============================] - 1s 325us/step - loss: 46.0335 - val_loss: 50.8999\n",
      "Epoch 7/100\n",
      "2251/2251 [==============================] - 1s 223us/step - loss: 41.7872 - val_loss: 46.3831\n",
      "Epoch 8/100\n",
      "2251/2251 [==============================] - 1s 282us/step - loss: 38.2200 - val_loss: 42.4747\n",
      "Epoch 9/100\n",
      "2251/2251 [==============================] - 1s 299us/step - loss: 35.1773 - val_loss: 39.0701\n",
      "Epoch 10/100\n",
      "2251/2251 [==============================] - 0s 211us/step - loss: 32.4716 - val_loss: 36.2146\n",
      "Epoch 11/100\n",
      "2251/2251 [==============================] - 0s 178us/step - loss: 30.0618 - val_loss: 33.2192\n",
      "Epoch 12/100\n",
      "2251/2251 [==============================] - 0s 185us/step - loss: 27.8902 - val_loss: 30.7324\n",
      "Epoch 13/100\n",
      "2251/2251 [==============================] - 0s 212us/step - loss: 25.9271 - val_loss: 28.4750\n",
      "Epoch 14/100\n",
      "2251/2251 [==============================] - 1s 284us/step - loss: 24.1408 - val_loss: 26.4592\n",
      "Epoch 15/100\n",
      "2251/2251 [==============================] - 1s 271us/step - loss: 22.5130 - val_loss: 24.6540\n",
      "Epoch 16/100\n",
      "2251/2251 [==============================] - 1s 240us/step - loss: 21.0189 - val_loss: 22.8806\n",
      "Epoch 17/100\n",
      "2251/2251 [==============================] - 1s 277us/step - loss: 19.6364 - val_loss: 21.3189\n",
      "Epoch 18/100\n",
      "2251/2251 [==============================] - 0s 200us/step - loss: 18.3991 - val_loss: 19.9105\n",
      "Epoch 19/100\n",
      "2251/2251 [==============================] - 1s 239us/step - loss: 17.2462 - val_loss: 18.6042\n",
      "Epoch 20/100\n",
      "2251/2251 [==============================] - 1s 224us/step - loss: 16.1892 - val_loss: 17.5023\n",
      "Epoch 21/100\n",
      "2251/2251 [==============================] - 1s 321us/step - loss: 15.2145 - val_loss: 16.4261\n",
      "Epoch 22/100\n",
      "2251/2251 [==============================] - 1s 298us/step - loss: 14.3175 - val_loss: 15.3154\n",
      "Epoch 23/100\n",
      "2251/2251 [==============================] - 1s 270us/step - loss: 13.4870 - val_loss: 14.4076\n",
      "Epoch 24/100\n",
      "2251/2251 [==============================] - 1s 376us/step - loss: 12.7220 - val_loss: 13.5561\n",
      "Epoch 25/100\n",
      "2251/2251 [==============================] - 1s 285us/step - loss: 12.0148 - val_loss: 12.8597\n",
      "Epoch 26/100\n",
      "2251/2251 [==============================] - 1s 344us/step - loss: 11.3665 - val_loss: 12.0745\n",
      "Epoch 27/100\n",
      "2251/2251 [==============================] - 1s 421us/step - loss: 10.7548 - val_loss: 11.4133\n",
      "Epoch 28/100\n",
      "2251/2251 [==============================] - 1s 305us/step - loss: 10.1904 - val_loss: 10.8171\n",
      "Epoch 29/100\n",
      "2251/2251 [==============================] - 1s 295us/step - loss: 9.6676 - val_loss: 10.2494\n",
      "Epoch 30/100\n",
      "2251/2251 [==============================] - 1s 372us/step - loss: 9.1817 - val_loss: 9.7349\n",
      "Epoch 31/100\n",
      "2251/2251 [==============================] - 1s 303us/step - loss: 8.7291 - val_loss: 9.2542\n",
      "Epoch 32/100\n",
      "2251/2251 [==============================] - 1s 287us/step - loss: 8.3075 - val_loss: 8.8203\n",
      "Epoch 33/100\n",
      "2251/2251 [==============================] - 1s 356us/step - loss: 7.9139 - val_loss: 8.4042\n",
      "Epoch 34/100\n",
      "2251/2251 [==============================] - 1s 250us/step - loss: 7.5464 - val_loss: 8.0236\n",
      "Epoch 35/100\n",
      "2251/2251 [==============================] - 1s 297us/step - loss: 7.2029 - val_loss: 7.6698\n",
      "Epoch 36/100\n",
      "2251/2251 [==============================] - 1s 325us/step - loss: 6.8812 - val_loss: 7.3413\n",
      "Epoch 37/100\n",
      "2251/2251 [==============================] - 1s 230us/step - loss: 6.5799 - val_loss: 7.0347\n",
      "Epoch 38/100\n",
      "2251/2251 [==============================] - 1s 259us/step - loss: 6.2974 - val_loss: 6.7497\n",
      "Epoch 39/100\n",
      "2251/2251 [==============================] - 1s 314us/step - loss: 6.0322 - val_loss: 6.4815\n",
      "Epoch 40/100\n",
      "2251/2251 [==============================] - 1s 259us/step - loss: 5.7831 - val_loss: 6.2310\n",
      "Epoch 41/100\n",
      "2251/2251 [==============================] - 1s 310us/step - loss: 5.5489 - val_loss: 5.9943\n",
      "Epoch 42/100\n",
      "2251/2251 [==============================] - 1s 231us/step - loss: 5.3284 - val_loss: 5.7786\n",
      "Epoch 43/100\n",
      "2251/2251 [==============================] - 1s 379us/step - loss: 5.1208 - val_loss: 5.5681\n",
      "Epoch 44/100\n",
      "2251/2251 [==============================] - 1s 228us/step - loss: 4.9251 - val_loss: 5.3777\n",
      "Epoch 45/100\n",
      "2251/2251 [==============================] - 1s 236us/step - loss: 4.7405 - val_loss: 5.1918\n",
      "Epoch 46/100\n",
      "2251/2251 [==============================] - 1s 294us/step - loss: 4.5662 - val_loss: 5.0202\n",
      "Epoch 47/100\n",
      "2251/2251 [==============================] - 0s 212us/step - loss: 4.4015 - val_loss: 4.8592\n",
      "Epoch 48/100\n",
      "2251/2251 [==============================] - 0s 211us/step - loss: 4.2458 - val_loss: 4.7065\n",
      "Epoch 49/100\n",
      "2251/2251 [==============================] - 1s 274us/step - loss: 4.0986 - val_loss: 4.5628\n",
      "Epoch 50/100\n",
      "2251/2251 [==============================] - 1s 322us/step - loss: 3.9592 - val_loss: 4.4263\n",
      "Epoch 51/100\n",
      "2251/2251 [==============================] - 1s 265us/step - loss: 3.8271 - val_loss: 4.2978\n",
      "Epoch 52/100\n",
      "2251/2251 [==============================] - 1s 658us/step - loss: 3.7019 - val_loss: 4.1761\n",
      "Epoch 53/100\n",
      "2251/2251 [==============================] - 1s 280us/step - loss: 3.5832 - val_loss: 4.0607\n",
      "Epoch 54/100\n",
      "2251/2251 [==============================] - 1s 338us/step - loss: 3.4706 - val_loss: 3.9513\n",
      "Epoch 55/100\n",
      "2251/2251 [==============================] - 1s 294us/step - loss: 3.3636 - val_loss: 3.8475\n",
      "Epoch 56/100\n",
      "2251/2251 [==============================] - 1s 223us/step - loss: 3.2620 - val_loss: 3.7491\n",
      "Epoch 57/100\n",
      "2251/2251 [==============================] - 1s 280us/step - loss: 3.1655 - val_loss: 3.6555\n",
      "Epoch 58/100\n",
      "2251/2251 [==============================] - 1s 243us/step - loss: 3.0736 - val_loss: 3.5666\n",
      "Epoch 59/100\n",
      "2251/2251 [==============================] - 1s 317us/step - loss: 2.9863 - val_loss: 3.4821\n",
      "Epoch 60/100\n",
      "2251/2251 [==============================] - 1s 241us/step - loss: 2.9031 - val_loss: 3.4018\n",
      "Epoch 61/100\n",
      "2251/2251 [==============================] - 1s 247us/step - loss: 2.8239 - val_loss: 3.3250\n",
      "Epoch 62/100\n",
      "2251/2251 [==============================] - 1s 351us/step - loss: 2.7485 - val_loss: 3.2522\n",
      "Epoch 63/100\n",
      "2251/2251 [==============================] - 1s 644us/step - loss: 2.6766 - val_loss: 3.1827\n",
      "Epoch 64/100\n",
      "2251/2251 [==============================] - 1s 306us/step - loss: 2.6080 - val_loss: 3.1164\n",
      "Epoch 65/100\n",
      "2251/2251 [==============================] - 1s 232us/step - loss: 2.5426 - val_loss: 3.0533\n",
      "Epoch 66/100\n",
      "2251/2251 [==============================] - 0s 213us/step - loss: 2.4802 - val_loss: 2.9930\n",
      "Epoch 67/100\n",
      "2251/2251 [==============================] - 1s 355us/step - loss: 2.4207 - val_loss: 2.9355\n",
      "Epoch 68/100\n",
      "2251/2251 [==============================] - 1s 227us/step - loss: 2.3638 - val_loss: 2.8805\n",
      "Epoch 69/100\n",
      "2251/2251 [==============================] - 1s 229us/step - loss: 2.3094 - val_loss: 2.8281\n",
      "Epoch 70/100\n",
      "2251/2251 [==============================] - 1s 226us/step - loss: 2.2575 - val_loss: 2.7779\n",
      "Epoch 71/100\n",
      "2251/2251 [==============================] - 1s 287us/step - loss: 2.2079 - val_loss: 2.7300\n",
      "Epoch 72/100\n",
      "2251/2251 [==============================] - 1s 251us/step - loss: 2.1604 - val_loss: 2.6841\n",
      "Epoch 73/100\n",
      "2251/2251 [==============================] - 1s 248us/step - loss: 2.1150 - val_loss: 2.6403\n",
      "Epoch 74/100\n",
      "2251/2251 [==============================] - 1s 233us/step - loss: 2.0715 - val_loss: 2.5983\n",
      "Epoch 75/100\n",
      "2251/2251 [==============================] - 1s 330us/step - loss: 2.0299 - val_loss: 2.5581\n",
      "Epoch 76/100\n",
      "2251/2251 [==============================] - 1s 315us/step - loss: 1.9901 - val_loss: 2.5197\n",
      "Epoch 77/100\n",
      "2251/2251 [==============================] - 1s 363us/step - loss: 1.9520 - val_loss: 2.4828\n",
      "Epoch 78/100\n",
      "2251/2251 [==============================] - 1s 297us/step - loss: 1.9155 - val_loss: 2.4476\n",
      "Epoch 79/100\n",
      "2251/2251 [==============================] - 0s 216us/step - loss: 1.8805 - val_loss: 2.4138\n",
      "Epoch 80/100\n",
      "2251/2251 [==============================] - 1s 240us/step - loss: 1.8470 - val_loss: 2.3814\n",
      "Epoch 81/100\n",
      "2251/2251 [==============================] - 1s 227us/step - loss: 1.8148 - val_loss: 2.3503\n",
      "Epoch 82/100\n",
      "2251/2251 [==============================] - 1s 281us/step - loss: 1.7840 - val_loss: 2.3205\n",
      "Epoch 83/100\n",
      "2251/2251 [==============================] - 1s 259us/step - loss: 1.7544 - val_loss: 2.2919\n",
      "Epoch 84/100\n",
      "2251/2251 [==============================] - 1s 340us/step - loss: 1.7261 - val_loss: 2.2645\n",
      "Epoch 85/100\n",
      "2251/2251 [==============================] - 1s 413us/step - loss: 1.6988 - val_loss: 2.2382\n",
      "Epoch 86/100\n",
      "2251/2251 [==============================] - 2s 668us/step - loss: 1.6727 - val_loss: 2.2130\n",
      "Epoch 87/100\n",
      "2251/2251 [==============================] - 1s 402us/step - loss: 1.6477 - val_loss: 2.1887\n",
      "Epoch 88/100\n",
      "2251/2251 [==============================] - 1s 271us/step - loss: 1.6236 - val_loss: 2.1654\n",
      "Epoch 89/100\n",
      "2251/2251 [==============================] - 1s 322us/step - loss: 1.6005 - val_loss: 2.1431\n",
      "Epoch 90/100\n",
      "2251/2251 [==============================] - 1s 248us/step - loss: 1.5783 - val_loss: 2.1216\n",
      "Epoch 91/100\n",
      "2251/2251 [==============================] - 1s 285us/step - loss: 1.5570 - val_loss: 2.1010\n",
      "Epoch 92/100\n",
      "2251/2251 [==============================] - 1s 524us/step - loss: 1.5365 - val_loss: 2.0812\n",
      "Epoch 93/100\n",
      "2251/2251 [==============================] - 1s 362us/step - loss: 1.5168 - val_loss: 2.0621\n",
      "Epoch 94/100\n",
      "2251/2251 [==============================] - 1s 307us/step - loss: 1.4979 - val_loss: 2.0438\n",
      "Epoch 95/100\n",
      "2251/2251 [==============================] - 1s 305us/step - loss: 1.4797 - val_loss: 2.0262\n",
      "Epoch 96/100\n",
      "2251/2251 [==============================] - 1s 251us/step - loss: 1.4622 - val_loss: 2.0093\n",
      "Epoch 97/100\n",
      "2251/2251 [==============================] - 1s 255us/step - loss: 1.4454 - val_loss: 1.9930\n",
      "Epoch 98/100\n",
      "2251/2251 [==============================] - 1s 321us/step - loss: 1.4292 - val_loss: 1.9774\n",
      "Epoch 99/100\n",
      "2251/2251 [==============================] - 1s 290us/step - loss: 1.4137 - val_loss: 1.9623\n",
      "Epoch 100/100\n",
      "2251/2251 [==============================] - 1s 311us/step - loss: 1.3987 - val_loss: 1.9478\n"
     ]
    },
    {
     "data": {
      "text/plain": [
       "AutoEncoder(batch_size=32, contamination=0.1, dropout_rate=0.2, epochs=100,\n",
       "      hidden_activation='relu', hidden_neurons=[25, 2, 2, 25],\n",
       "      l2_regularizer=0.1,\n",
       "      loss=<function mean_squared_error at 0x7f9e3a8dcd08>,\n",
       "      optimizer='adam', output_activation='sigmoid', preprocessing=True,\n",
       "      random_state=None, validation_size=0.1, verbose=1)"
      ]
     },
     "execution_count": 9,
     "metadata": {},
     "output_type": "execute_result"
    }
   ],
   "source": [
    "from pyod.models.auto_encoder import AutoEncoder\n",
    "clf1 = AutoEncoder(hidden_neurons =[25, 2, 2, 25])\n",
    "clf1.fit(X_train)"
   ]
  },
  {
   "cell_type": "code",
   "execution_count": 10,
   "metadata": {},
   "outputs": [],
   "source": [
    "y_train_scores = clf1.decision_scores_ \n",
    "# get the prediction on the test data\n",
    "y_test_pred = clf1.predict(X_test)  # outlier labels (0 or 1)\n",
    "# clf.decision_function: Predict raw anomaly score of X using the fitted detector.\n",
    "y_test_scores = clf1.decision_function(X_test)  # outlier scores\n",
    "\n",
    "y_test_pred = pd.Series(y_test_pred)\n",
    "y_test_scores = pd.Series(y_test_scores)"
   ]
  },
  {
   "cell_type": "code",
   "execution_count": 58,
   "metadata": {},
   "outputs": [
    {
     "data": {
      "text/plain": [
       "0    730\n",
       "1    105\n",
       "dtype: int64"
      ]
     },
     "execution_count": 58,
     "metadata": {},
     "output_type": "execute_result"
    }
   ],
   "source": [
    "y_test_pred.value_counts()"
   ]
  },
  {
   "cell_type": "code",
   "execution_count": 13,
   "metadata": {},
   "outputs": [
    {
     "data": {
      "image/png": "[encoded data removed]",
      "text/plain": [
       "<Figure size 432x288 with 1 Axes>"
      ]
     },
     "metadata": {
      "needs_background": "light"
     },
     "output_type": "display_data"
    }
   ],
   "source": [
    "import matplotlib.pyplot as plt\n",
    "plt.hist(y_test_scores, bins='auto')  # arguments are passed to np.histogram\n",
    "plt.title(\"Histogram for Model Clf1 Anomaly Scores\")\n",
    "plt.show()"
   ]
  },
  {
   "cell_type": "code",
   "execution_count": 66,
   "metadata": {},
   "outputs": [
    {
     "data": {
      "text/plain": [
       "0    778\n",
       "1     57\n",
       "Name: cluster, dtype: int64"
      ]
     },
     "execution_count": 66,
     "metadata": {},
     "output_type": "execute_result"
    }
   ],
   "source": [
    "# 15 should be a good threshold\n",
    "df_test = benchmark_test.reset_index(drop = True)\n",
    "df_test['score'] = y_test_scores\n",
    "df_test['cluster'] = np.where(df_test['score']<15, 0, 1)\n",
    "df_test['cluster'].value_counts()"
   ]
  },
  {
   "cell_type": "code",
   "execution_count": 19,
   "metadata": {},
   "outputs": [
    {
     "data": {
      "text/html": [
       "<div>\n",
       "<style scoped>\n",
       "    .dataframe tbody tr th:only-of-type {\n",
       "        vertical-align: middle;\n",
       "    }\n",
       "\n",
       "    .dataframe tbody tr th {\n",
       "        vertical-align: top;\n",
       "    }\n",
       "\n",
       "    .dataframe thead th {\n",
       "        text-align: right;\n",
       "    }\n",
       "</style>\n",
       "<table border=\"1\" class=\"dataframe\">\n",
       "  <thead>\n",
       "    <tr style=\"text-align: right;\">\n",
       "      <th></th>\n",
       "      <th>Average_Covered_Charges</th>\n",
       "      <th>Average_Covered_Charge_vs_Income_Ratio</th>\n",
       "      <th>Average_Total_Payments</th>\n",
       "      <th>Average_Total_Payments_by_Income_Ratio</th>\n",
       "      <th>Average_Medicare_Payments</th>\n",
       "      <th>Average_Medicare_Payments_by_Income_Ratioe</th>\n",
       "      <th>score</th>\n",
       "    </tr>\n",
       "    <tr>\n",
       "      <th>cluster</th>\n",
       "      <th></th>\n",
       "      <th></th>\n",
       "      <th></th>\n",
       "      <th></th>\n",
       "      <th></th>\n",
       "      <th></th>\n",
       "      <th></th>\n",
       "    </tr>\n",
       "  </thead>\n",
       "  <tbody>\n",
       "    <tr>\n",
       "      <th>0</th>\n",
       "      <td>28886.648699</td>\n",
       "      <td>0.518749</td>\n",
       "      <td>9137.473528</td>\n",
       "      <td>0.164348</td>\n",
       "      <td>7946.319447</td>\n",
       "      <td>0.142891</td>\n",
       "      <td>35.476527</td>\n",
       "    </tr>\n",
       "    <tr>\n",
       "      <th>1</th>\n",
       "      <td>39195.506773</td>\n",
       "      <td>0.687104</td>\n",
       "      <td>9949.754727</td>\n",
       "      <td>0.175506</td>\n",
       "      <td>8697.078182</td>\n",
       "      <td>0.153326</td>\n",
       "      <td>8.233041</td>\n",
       "    </tr>\n",
       "  </tbody>\n",
       "</table>\n",
       "</div>"
      ],
      "text/plain": [
       "         Average_Covered_Charges  Average_Covered_Charge_vs_Income_Ratio  \\\n",
       "cluster                                                                    \n",
       "0                   28886.648699                                0.518749   \n",
       "1                   39195.506773                                0.687104   \n",
       "\n",
       "         Average_Total_Payments  Average_Total_Payments_by_Income_Ratio  \\\n",
       "cluster                                                                   \n",
       "0                   9137.473528                                0.164348   \n",
       "1                   9949.754727                                0.175506   \n",
       "\n",
       "         Average_Medicare_Payments  \\\n",
       "cluster                              \n",
       "0                      7946.319447   \n",
       "1                      8697.078182   \n",
       "\n",
       "         Average_Medicare_Payments_by_Income_Ratioe      score  \n",
       "cluster                                                         \n",
       "0                                          0.142891  35.476527  \n",
       "1                                          0.153326   8.233041  "
      ]
     },
     "execution_count": 19,
     "metadata": {},
     "output_type": "execute_result"
    }
   ],
   "source": [
    "df_test.groupby('cluster').mean()"
   ]
  },
  {
   "cell_type": "markdown",
   "metadata": {},
   "source": [
    "### （2）clf2：hidden_neurons = [25, 10, 2, 10, 25]\n",
    "The input layer and the output layer has 25 neurons each. There are 3 hidden layers with 10, 2, and 10 neurons respectively."
   ]
  },
  {
   "cell_type": "code",
   "execution_count": 67,
   "metadata": {
    "scrolled": true
   },
   "outputs": [
    {
     "name": "stdout",
     "output_type": "stream",
     "text": [
      "Model: \"sequential_2\"\n",
      "_________________________________________________________________\n",
      "Layer (type)                 Output Shape              Param #   \n",
      "=================================================================\n",
      "dense_8 (Dense)              (None, 76)                5852      \n",
      "_________________________________________________________________\n",
      "dropout_7 (Dropout)          (None, 76)                0         \n",
      "_________________________________________________________________\n",
      "dense_9 (Dense)              (None, 76)                5852      \n",
      "_________________________________________________________________\n",
      "dropout_8 (Dropout)          (None, 76)                0         \n",
      "_________________________________________________________________\n",
      "dense_10 (Dense)             (None, 25)                1925      \n",
      "_________________________________________________________________\n",
      "dropout_9 (Dropout)          (None, 25)                0         \n",
      "_________________________________________________________________\n",
      "dense_11 (Dense)             (None, 10)                260       \n",
      "_________________________________________________________________\n",
      "dropout_10 (Dropout)         (None, 10)                0         \n",
      "_________________________________________________________________\n",
      "dense_12 (Dense)             (None, 2)                 22        \n",
      "_________________________________________________________________\n",
      "dropout_11 (Dropout)         (None, 2)                 0         \n",
      "_________________________________________________________________\n",
      "dense_13 (Dense)             (None, 10)                30        \n",
      "_________________________________________________________________\n",
      "dropout_12 (Dropout)         (None, 10)                0         \n",
      "_________________________________________________________________\n",
      "dense_14 (Dense)             (None, 25)                275       \n",
      "_________________________________________________________________\n",
      "dropout_13 (Dropout)         (None, 25)                0         \n",
      "_________________________________________________________________\n",
      "dense_15 (Dense)             (None, 76)                1976      \n",
      "=================================================================\n",
      "Total params: 16,192\n",
      "Trainable params: 16,192\n",
      "Non-trainable params: 0\n",
      "_________________________________________________________________\n",
      "None\n",
      "Train on 2251 samples, validate on 251 samples\n",
      "Epoch 1/100\n",
      "2251/2251 [==============================] - 4s 2ms/step - loss: 160.1216 - val_loss: 107.4431\n",
      "Epoch 2/100\n",
      "2251/2251 [==============================] - 1s 411us/step - loss: 74.1080 - val_loss: 50.1009\n",
      "Epoch 3/100\n",
      "2251/2251 [==============================] - 1s 424us/step - loss: 35.7070 - val_loss: 30.8069\n",
      "Epoch 4/100\n",
      "2251/2251 [==============================] - 1s 379us/step - loss: 22.8550 - val_loss: 21.8803\n",
      "Epoch 5/100\n",
      "2251/2251 [==============================] - 1s 262us/step - loss: 16.4294 - val_loss: 16.8896\n",
      "Epoch 6/100\n",
      "2251/2251 [==============================] - 1s 359us/step - loss: 12.8614 - val_loss: 13.4057\n",
      "Epoch 7/100\n",
      "2251/2251 [==============================] - 1s 425us/step - loss: 10.5083 - val_loss: 11.1343\n",
      "Epoch 8/100\n",
      "2251/2251 [==============================] - 1s 301us/step - loss: 8.9793 - val_loss: 9.6662\n",
      "Epoch 9/100\n",
      "2251/2251 [==============================] - 1s 293us/step - loss: 7.8668 - val_loss: 8.4352\n",
      "Epoch 10/100\n",
      "2251/2251 [==============================] - 1s 504us/step - loss: 7.0330 - val_loss: 7.4744\n",
      "Epoch 11/100\n",
      "2251/2251 [==============================] - 1s 375us/step - loss: 6.4350 - val_loss: 6.7441\n",
      "Epoch 12/100\n",
      "2251/2251 [==============================] - 1s 325us/step - loss: 5.9183 - val_loss: 6.1760\n",
      "Epoch 13/100\n",
      "2251/2251 [==============================] - 1s 224us/step - loss: 5.4794 - val_loss: 5.7480\n",
      "Epoch 14/100\n",
      "2251/2251 [==============================] - 1s 282us/step - loss: 5.1730 - val_loss: 5.3575\n",
      "Epoch 15/100\n",
      "2251/2251 [==============================] - 1s 483us/step - loss: 4.9170 - val_loss: 5.0276\n",
      "Epoch 16/100\n",
      "2251/2251 [==============================] - 1s 232us/step - loss: 4.6610 - val_loss: 4.7583\n",
      "Epoch 17/100\n",
      "2251/2251 [==============================] - 0s 211us/step - loss: 4.4858 - val_loss: 4.5425\n",
      "Epoch 18/100\n",
      "2251/2251 [==============================] - 0s 216us/step - loss: 4.2614 - val_loss: 4.3426\n",
      "Epoch 19/100\n",
      "2251/2251 [==============================] - 1s 407us/step - loss: 4.0944 - val_loss: 4.1795\n",
      "Epoch 20/100\n",
      "2251/2251 [==============================] - 0s 222us/step - loss: 3.9735 - val_loss: 4.0281\n",
      "Epoch 21/100\n",
      "2251/2251 [==============================] - 1s 228us/step - loss: 3.8563 - val_loss: 3.8889\n",
      "Epoch 22/100\n",
      "2251/2251 [==============================] - 1s 350us/step - loss: 3.7262 - val_loss: 3.7634\n",
      "Epoch 23/100\n",
      "2251/2251 [==============================] - 1s 234us/step - loss: 3.6162 - val_loss: 3.6554\n",
      "Epoch 24/100\n",
      "2251/2251 [==============================] - 0s 208us/step - loss: 3.5294 - val_loss: 3.5562\n",
      "Epoch 25/100\n",
      "2251/2251 [==============================] - 1s 246us/step - loss: 3.4300 - val_loss: 3.4655\n",
      "Epoch 26/100\n",
      "2251/2251 [==============================] - 1s 310us/step - loss: 3.3438 - val_loss: 3.3759\n",
      "Epoch 27/100\n",
      "2251/2251 [==============================] - 1s 232us/step - loss: 3.2689 - val_loss: 3.2985\n",
      "Epoch 28/100\n",
      "2251/2251 [==============================] - 1s 242us/step - loss: 3.1953 - val_loss: 3.2227\n",
      "Epoch 29/100\n",
      "2251/2251 [==============================] - 0s 196us/step - loss: 3.1199 - val_loss: 3.1555\n",
      "Epoch 30/100\n",
      "2251/2251 [==============================] - 1s 258us/step - loss: 3.0505 - val_loss: 3.0919\n",
      "Epoch 31/100\n",
      "2251/2251 [==============================] - 0s 193us/step - loss: 2.9954 - val_loss: 3.0306\n",
      "Epoch 32/100\n",
      "2251/2251 [==============================] - 0s 212us/step - loss: 2.9138 - val_loss: 2.9721\n",
      "Epoch 33/100\n",
      "2251/2251 [==============================] - 0s 216us/step - loss: 2.8801 - val_loss: 2.9175\n",
      "Epoch 34/100\n",
      "2251/2251 [==============================] - 1s 257us/step - loss: 2.8081 - val_loss: 2.8615\n",
      "Epoch 35/100\n",
      "2251/2251 [==============================] - 0s 201us/step - loss: 2.7654 - val_loss: 2.8127\n",
      "Epoch 36/100\n",
      "2251/2251 [==============================] - 0s 194us/step - loss: 2.7066 - val_loss: 2.7650\n",
      "Epoch 37/100\n",
      "2251/2251 [==============================] - 0s 205us/step - loss: 2.6743 - val_loss: 2.7226\n",
      "Epoch 38/100\n",
      "2251/2251 [==============================] - 0s 197us/step - loss: 2.6391 - val_loss: 2.6779\n",
      "Epoch 39/100\n",
      "2251/2251 [==============================] - 1s 259us/step - loss: 2.5825 - val_loss: 2.6363\n",
      "Epoch 40/100\n",
      "2251/2251 [==============================] - 0s 197us/step - loss: 2.5312 - val_loss: 2.5956\n",
      "Epoch 41/100\n",
      "2251/2251 [==============================] - 0s 211us/step - loss: 2.4955 - val_loss: 2.5606\n",
      "Epoch 42/100\n",
      "2251/2251 [==============================] - 0s 199us/step - loss: 2.4696 - val_loss: 2.5226\n",
      "Epoch 43/100\n",
      "2251/2251 [==============================] - 1s 274us/step - loss: 2.4291 - val_loss: 2.4861\n",
      "Epoch 44/100\n",
      "2251/2251 [==============================] - 0s 197us/step - loss: 2.3967 - val_loss: 2.4572\n",
      "Epoch 45/100\n",
      "2251/2251 [==============================] - 0s 199us/step - loss: 2.3491 - val_loss: 2.4184\n",
      "Epoch 46/100\n",
      "2251/2251 [==============================] - 0s 202us/step - loss: 2.3191 - val_loss: 2.3887\n",
      "Epoch 47/100\n",
      "2251/2251 [==============================] - 1s 279us/step - loss: 2.2855 - val_loss: 2.3570\n",
      "Epoch 48/100\n",
      "2251/2251 [==============================] - 1s 223us/step - loss: 2.2523 - val_loss: 2.3282\n",
      "Epoch 49/100\n",
      "2251/2251 [==============================] - 1s 323us/step - loss: 2.2283 - val_loss: 2.3009\n",
      "Epoch 50/100\n",
      "2251/2251 [==============================] - 1s 262us/step - loss: 2.1933 - val_loss: 2.2718\n",
      "Epoch 51/100\n",
      "2251/2251 [==============================] - 1s 315us/step - loss: 2.1611 - val_loss: 2.2456\n",
      "Epoch 52/100\n",
      "2251/2251 [==============================] - 1s 241us/step - loss: 2.1235 - val_loss: 2.2192\n",
      "Epoch 53/100\n",
      "2251/2251 [==============================] - 1s 318us/step - loss: 2.1153 - val_loss: 2.1986\n",
      "Epoch 54/100\n",
      "2251/2251 [==============================] - 1s 330us/step - loss: 2.0873 - val_loss: 2.1696\n",
      "Epoch 55/100\n",
      "2251/2251 [==============================] - 1s 257us/step - loss: 2.0643 - val_loss: 2.1487\n",
      "Epoch 56/100\n",
      "2251/2251 [==============================] - 1s 295us/step - loss: 2.0346 - val_loss: 2.1251\n",
      "Epoch 57/100\n",
      "2251/2251 [==============================] - 1s 356us/step - loss: 2.0095 - val_loss: 2.1035\n",
      "Epoch 58/100\n",
      "2251/2251 [==============================] - 1s 367us/step - loss: 1.9910 - val_loss: 2.0818\n",
      "Epoch 59/100\n",
      "2251/2251 [==============================] - 1s 290us/step - loss: 1.9636 - val_loss: 2.0590\n",
      "Epoch 60/100\n",
      "2251/2251 [==============================] - 1s 349us/step - loss: 1.9344 - val_loss: 2.0357\n",
      "Epoch 61/100\n",
      "2251/2251 [==============================] - 1s 266us/step - loss: 1.9187 - val_loss: 2.0184\n",
      "Epoch 62/100\n",
      "2251/2251 [==============================] - 1s 253us/step - loss: 1.8900 - val_loss: 1.9978\n",
      "Epoch 63/100\n",
      "2251/2251 [==============================] - 1s 295us/step - loss: 1.8841 - val_loss: 1.9843\n",
      "Epoch 64/100\n",
      "2251/2251 [==============================] - 1s 315us/step - loss: 1.8555 - val_loss: 1.9621\n",
      "Epoch 65/100\n",
      "2251/2251 [==============================] - 1s 421us/step - loss: 1.8353 - val_loss: 1.9433\n",
      "Epoch 66/100\n",
      "2251/2251 [==============================] - 1s 343us/step - loss: 1.8083 - val_loss: 1.9253\n",
      "Epoch 67/100\n",
      "2251/2251 [==============================] - 1s 264us/step - loss: 1.7992 - val_loss: 1.9098\n",
      "Epoch 68/100\n",
      "2251/2251 [==============================] - 1s 239us/step - loss: 1.7834 - val_loss: 1.8936\n",
      "Epoch 69/100\n",
      "2251/2251 [==============================] - 1s 346us/step - loss: 1.7545 - val_loss: 1.8751\n",
      "Epoch 70/100\n",
      "2251/2251 [==============================] - 1s 323us/step - loss: 1.7413 - val_loss: 1.8597\n",
      "Epoch 71/100\n",
      "2251/2251 [==============================] - 1s 569us/step - loss: 1.7289 - val_loss: 1.8468\n",
      "Epoch 72/100\n",
      "2251/2251 [==============================] - 1s 380us/step - loss: 1.7093 - val_loss: 1.8319\n",
      "Epoch 73/100\n",
      "2251/2251 [==============================] - 1s 269us/step - loss: 1.6958 - val_loss: 1.8138\n",
      "Epoch 74/100\n",
      "2251/2251 [==============================] - 1s 310us/step - loss: 1.6761 - val_loss: 1.8004\n",
      "Epoch 75/100\n",
      "2251/2251 [==============================] - 1s 245us/step - loss: 1.6589 - val_loss: 1.7872\n",
      "Epoch 76/100\n",
      "2251/2251 [==============================] - 1s 242us/step - loss: 1.6553 - val_loss: 1.7764\n",
      "Epoch 77/100\n",
      "2251/2251 [==============================] - 1s 234us/step - loss: 1.6260 - val_loss: 1.7581\n",
      "Epoch 78/100\n",
      "2251/2251 [==============================] - 1s 307us/step - loss: 1.6169 - val_loss: 1.7456\n",
      "Epoch 79/100\n",
      "2251/2251 [==============================] - 1s 256us/step - loss: 1.6040 - val_loss: 1.7322\n",
      "Epoch 80/100\n",
      "2251/2251 [==============================] - 1s 253us/step - loss: 1.5902 - val_loss: 1.7203\n",
      "Epoch 81/100\n",
      "2251/2251 [==============================] - 1s 329us/step - loss: 1.5762 - val_loss: 1.7063\n",
      "Epoch 82/100\n",
      "2251/2251 [==============================] - 1s 302us/step - loss: 1.5639 - val_loss: 1.6941\n",
      "Epoch 83/100\n",
      "2251/2251 [==============================] - 1s 279us/step - loss: 1.5487 - val_loss: 1.6830\n",
      "Epoch 84/100\n",
      "2251/2251 [==============================] - 1s 330us/step - loss: 1.5339 - val_loss: 1.6708\n",
      "Epoch 85/100\n",
      "2251/2251 [==============================] - 1s 355us/step - loss: 1.5242 - val_loss: 1.6598\n",
      "Epoch 86/100\n",
      "2251/2251 [==============================] - 1s 288us/step - loss: 1.5071 - val_loss: 1.6488\n",
      "Epoch 87/100\n",
      "2251/2251 [==============================] - 1s 434us/step - loss: 1.4999 - val_loss: 1.6372\n",
      "Epoch 88/100\n",
      "2251/2251 [==============================] - 1s 444us/step - loss: 1.4899 - val_loss: 1.6275\n",
      "Epoch 89/100\n",
      "2251/2251 [==============================] - 1s 304us/step - loss: 1.4769 - val_loss: 1.6153\n",
      "Epoch 90/100\n",
      "2251/2251 [==============================] - 1s 242us/step - loss: 1.4637 - val_loss: 1.6060\n",
      "Epoch 91/100\n",
      "2251/2251 [==============================] - 1s 299us/step - loss: 1.4535 - val_loss: 1.5961\n",
      "Epoch 92/100\n",
      "2251/2251 [==============================] - 1s 308us/step - loss: 1.4439 - val_loss: 1.5864\n",
      "Epoch 93/100\n",
      "2251/2251 [==============================] - 1s 319us/step - loss: 1.4287 - val_loss: 1.5778\n",
      "Epoch 94/100\n",
      "2251/2251 [==============================] - 1s 246us/step - loss: 1.4151 - val_loss: 1.5662\n",
      "Epoch 95/100\n",
      "2251/2251 [==============================] - 1s 362us/step - loss: 1.4038 - val_loss: 1.5575\n",
      "Epoch 96/100\n",
      "2251/2251 [==============================] - 1s 373us/step - loss: 1.3984 - val_loss: 1.5487\n",
      "Epoch 97/100\n",
      "2251/2251 [==============================] - 1s 225us/step - loss: 1.3886 - val_loss: 1.5398\n",
      "Epoch 98/100\n",
      "2251/2251 [==============================] - 0s 221us/step - loss: 1.3811 - val_loss: 1.5325\n",
      "Epoch 99/100\n",
      "2251/2251 [==============================] - 1s 306us/step - loss: 1.3697 - val_loss: 1.5232\n",
      "Epoch 100/100\n",
      "2251/2251 [==============================] - 1s 276us/step - loss: 1.3627 - val_loss: 1.5143\n"
     ]
    }
   ],
   "source": [
    "clf2 = AutoEncoder(hidden_neurons =[25, 10, 2, 10, 25])\n",
    "clf2.fit(X_train)\n",
    "\n",
    "# clf.decision_function: Predict raw anomaly score of X using the fitted detector.\n",
    "y_test_scores = clf2.decision_function(X_test)  # outlier scores\n",
    "y_test_scores = pd.Series(y_test_scores)"
   ]
  },
  {
   "cell_type": "code",
   "execution_count": 68,
   "metadata": {},
   "outputs": [
    {
     "data": {
      "image/png": "[encoded data removed]",
      "text/plain": [
       "<Figure size 432x288 with 1 Axes>"
      ]
     },
     "metadata": {
      "needs_background": "light"
     },
     "output_type": "display_data"
    }
   ],
   "source": [
    "plt.hist(y_test_scores, bins='auto')  # arguments are passed to np.histogram\n",
    "plt.title(\"Histogram for Model Clf2 Anomaly Scores\")\n",
    "plt.show()"
   ]
  },
  {
   "cell_type": "code",
   "execution_count": 74,
   "metadata": {},
   "outputs": [
    {
     "data": {
      "text/plain": [
       "0    778\n",
       "1     57\n",
       "Name: cluster, dtype: int64"
      ]
     },
     "execution_count": 74,
     "metadata": {},
     "output_type": "execute_result"
    }
   ],
   "source": [
    "# 15 should be a good threshold\n",
    "df_test = benchmark_test.reset_index(drop = True)\n",
    "df_test['score'] = y_test_scores\n",
    "df_test['cluster'] = np.where(df_test['score']<15, 0, 1)\n",
    "df_test['cluster'].value_counts()"
   ]
  },
  {
   "cell_type": "code",
   "execution_count": 75,
   "metadata": {},
   "outputs": [
    {
     "data": {
      "text/html": [
       "<div>\n",
       "<style scoped>\n",
       "    .dataframe tbody tr th:only-of-type {\n",
       "        vertical-align: middle;\n",
       "    }\n",
       "\n",
       "    .dataframe tbody tr th {\n",
       "        vertical-align: top;\n",
       "    }\n",
       "\n",
       "    .dataframe thead th {\n",
       "        text-align: right;\n",
       "    }\n",
       "</style>\n",
       "<table border=\"1\" class=\"dataframe\">\n",
       "  <thead>\n",
       "    <tr style=\"text-align: right;\">\n",
       "      <th></th>\n",
       "      <th>Average_Covered_Charges</th>\n",
       "      <th>Average_Covered_Charge_vs_Income_Ratio</th>\n",
       "      <th>Average_Total_Payments</th>\n",
       "      <th>Average_Total_Payments_by_Income_Ratio</th>\n",
       "      <th>Average_Medicare_Payments</th>\n",
       "      <th>Average_Medicare_Payments_by_Income_Ratioe</th>\n",
       "      <th>score</th>\n",
       "    </tr>\n",
       "    <tr>\n",
       "      <th>cluster</th>\n",
       "      <th></th>\n",
       "      <th></th>\n",
       "      <th></th>\n",
       "      <th></th>\n",
       "      <th></th>\n",
       "      <th></th>\n",
       "      <th></th>\n",
       "    </tr>\n",
       "  </thead>\n",
       "  <tbody>\n",
       "    <tr>\n",
       "      <th>0</th>\n",
       "      <td>-0.093557</td>\n",
       "      <td>-0.096107</td>\n",
       "      <td>-0.106081</td>\n",
       "      <td>-0.106711</td>\n",
       "      <td>-0.106797</td>\n",
       "      <td>-0.10708</td>\n",
       "      <td>7.704772</td>\n",
       "    </tr>\n",
       "    <tr>\n",
       "      <th>1</th>\n",
       "      <td>1.260315</td>\n",
       "      <td>1.174960</td>\n",
       "      <td>1.999096</td>\n",
       "      <td>1.880544</td>\n",
       "      <td>1.983845</td>\n",
       "      <td>1.88179</td>\n",
       "      <td>21.275055</td>\n",
       "    </tr>\n",
       "  </tbody>\n",
       "</table>\n",
       "</div>"
      ],
      "text/plain": [
       "         Average_Covered_Charges  Average_Covered_Charge_vs_Income_Ratio  \\\n",
       "cluster                                                                    \n",
       "0                      -0.093557                               -0.096107   \n",
       "1                       1.260315                                1.174960   \n",
       "\n",
       "         Average_Total_Payments  Average_Total_Payments_by_Income_Ratio  \\\n",
       "cluster                                                                   \n",
       "0                     -0.106081                               -0.106711   \n",
       "1                      1.999096                                1.880544   \n",
       "\n",
       "         Average_Medicare_Payments  \\\n",
       "cluster                              \n",
       "0                        -0.106797   \n",
       "1                         1.983845   \n",
       "\n",
       "         Average_Medicare_Payments_by_Income_Ratioe      score  \n",
       "cluster                                                         \n",
       "0                                          -0.10708   7.704772  \n",
       "1                                           1.88179  21.275055  "
      ]
     },
     "execution_count": 75,
     "metadata": {},
     "output_type": "execute_result"
    }
   ],
   "source": [
    "df_test.groupby('cluster').mean()"
   ]
  },
  {
   "cell_type": "markdown",
   "metadata": {},
   "source": [
    "### clf3：hidden_neurons = [25, 15, 10, 2, 10,15, 25]\n",
    "The input layer and the output layer has 25 neurons each. There are five hidden layers with 15, 10, 2, 10, 15 neurons respectively."
   ]
  },
  {
   "cell_type": "code",
   "execution_count": 76,
   "metadata": {
    "scrolled": true
   },
   "outputs": [
    {
     "name": "stdout",
     "output_type": "stream",
     "text": [
      "Model: \"sequential_3\"\n",
      "_________________________________________________________________\n",
      "Layer (type)                 Output Shape              Param #   \n",
      "=================================================================\n",
      "dense_16 (Dense)             (None, 76)                5852      \n",
      "_________________________________________________________________\n",
      "dropout_14 (Dropout)         (None, 76)                0         \n",
      "_________________________________________________________________\n",
      "dense_17 (Dense)             (None, 76)                5852      \n",
      "_________________________________________________________________\n",
      "dropout_15 (Dropout)         (None, 76)                0         \n",
      "_________________________________________________________________\n",
      "dense_18 (Dense)             (None, 25)                1925      \n",
      "_________________________________________________________________\n",
      "dropout_16 (Dropout)         (None, 25)                0         \n",
      "_________________________________________________________________\n",
      "dense_19 (Dense)             (None, 15)                390       \n",
      "_________________________________________________________________\n",
      "dropout_17 (Dropout)         (None, 15)                0         \n",
      "_________________________________________________________________\n",
      "dense_20 (Dense)             (None, 10)                160       \n",
      "_________________________________________________________________\n",
      "dropout_18 (Dropout)         (None, 10)                0         \n",
      "_________________________________________________________________\n",
      "dense_21 (Dense)             (None, 2)                 22        \n",
      "_________________________________________________________________\n",
      "dropout_19 (Dropout)         (None, 2)                 0         \n",
      "_________________________________________________________________\n",
      "dense_22 (Dense)             (None, 10)                30        \n",
      "_________________________________________________________________\n",
      "dropout_20 (Dropout)         (None, 10)                0         \n",
      "_________________________________________________________________\n",
      "dense_23 (Dense)             (None, 15)                165       \n",
      "_________________________________________________________________\n",
      "dropout_21 (Dropout)         (None, 15)                0         \n",
      "_________________________________________________________________\n",
      "dense_24 (Dense)             (None, 25)                400       \n",
      "_________________________________________________________________\n",
      "dropout_22 (Dropout)         (None, 25)                0         \n",
      "_________________________________________________________________\n",
      "dense_25 (Dense)             (None, 76)                1976      \n",
      "=================================================================\n",
      "Total params: 16,772\n",
      "Trainable params: 16,772\n",
      "Non-trainable params: 0\n",
      "_________________________________________________________________\n",
      "None\n",
      "Train on 2251 samples, validate on 251 samples\n",
      "Epoch 1/100\n",
      "2251/2251 [==============================] - 6s 3ms/step - loss: 154.2503 - val_loss: 102.9033\n",
      "Epoch 2/100\n",
      "2251/2251 [==============================] - 1s 598us/step - loss: 68.5715 - val_loss: 49.4026\n",
      "Epoch 3/100\n",
      "2251/2251 [==============================] - 2s 734us/step - loss: 35.6050 - val_loss: 31.6497\n",
      "Epoch 4/100\n",
      "2251/2251 [==============================] - 2s 905us/step - loss: 23.0333 - val_loss: 22.8257\n",
      "Epoch 5/100\n",
      "2251/2251 [==============================] - 1s 541us/step - loss: 16.7481 - val_loss: 17.7836\n",
      "Epoch 6/100\n",
      "2251/2251 [==============================] - 2s 769us/step - loss: 13.1485 - val_loss: 14.6050\n",
      "Epoch 7/100\n",
      "2251/2251 [==============================] - 2s 867us/step - loss: 10.8289 - val_loss: 12.4521\n",
      "Epoch 8/100\n",
      "2251/2251 [==============================] - 1s 652us/step - loss: 9.3202 - val_loss: 10.5744\n",
      "Epoch 9/100\n",
      "2251/2251 [==============================] - 1s 551us/step - loss: 8.1804 - val_loss: 9.3659\n",
      "Epoch 10/100\n",
      "2251/2251 [==============================] - 1s 564us/step - loss: 7.3565 - val_loss: 8.3930\n",
      "Epoch 11/100\n",
      "2251/2251 [==============================] - 1s 519us/step - loss: 6.7345 - val_loss: 7.5917\n",
      "Epoch 12/100\n",
      "2251/2251 [==============================] - 1s 562us/step - loss: 6.2022 - val_loss: 6.9804\n",
      "Epoch 13/100\n",
      "2251/2251 [==============================] - 2s 724us/step - loss: 5.8194 - val_loss: 6.4887\n",
      "Epoch 14/100\n",
      "2251/2251 [==============================] - 1s 582us/step - loss: 5.4328 - val_loss: 6.0789\n",
      "Epoch 15/100\n",
      "2251/2251 [==============================] - 1s 606us/step - loss: 5.1404 - val_loss: 5.7246\n",
      "Epoch 16/100\n",
      "2251/2251 [==============================] - 2s 678us/step - loss: 4.8756 - val_loss: 5.4037\n",
      "Epoch 17/100\n",
      "2251/2251 [==============================] - 1s 596us/step - loss: 4.6655 - val_loss: 5.1506\n",
      "Epoch 18/100\n",
      "2251/2251 [==============================] - 2s 707us/step - loss: 4.4804 - val_loss: 4.9148\n",
      "Epoch 19/100\n",
      "2251/2251 [==============================] - 1s 652us/step - loss: 4.3283 - val_loss: 4.6989\n",
      "Epoch 20/100\n",
      "2251/2251 [==============================] - 2s 717us/step - loss: 4.1554 - val_loss: 4.5165\n",
      "Epoch 21/100\n",
      "2251/2251 [==============================] - 1s 665us/step - loss: 4.0271 - val_loss: 4.3518\n",
      "Epoch 22/100\n",
      "2251/2251 [==============================] - 2s 743us/step - loss: 3.8942 - val_loss: 4.2031\n",
      "Epoch 23/100\n",
      "2251/2251 [==============================] - 1s 647us/step - loss: 3.7747 - val_loss: 4.0667\n",
      "Epoch 24/100\n",
      "2251/2251 [==============================] - 1s 524us/step - loss: 3.6644 - val_loss: 3.9425\n",
      "Epoch 25/100\n",
      "2251/2251 [==============================] - 2s 745us/step - loss: 3.5882 - val_loss: 3.8316\n",
      "Epoch 26/100\n",
      "2251/2251 [==============================] - 1s 445us/step - loss: 3.4796 - val_loss: 3.7240\n",
      "Epoch 27/100\n",
      "2251/2251 [==============================] - 1s 409us/step - loss: 3.3921 - val_loss: 3.6313\n",
      "Epoch 28/100\n",
      "2251/2251 [==============================] - 1s 366us/step - loss: 3.3140 - val_loss: 3.5435\n",
      "Epoch 29/100\n",
      "2251/2251 [==============================] - 1s 435us/step - loss: 3.2449 - val_loss: 3.4620\n",
      "Epoch 30/100\n",
      "2251/2251 [==============================] - 1s 521us/step - loss: 3.1682 - val_loss: 3.3876\n",
      "Epoch 31/100\n",
      "2251/2251 [==============================] - 1s 627us/step - loss: 3.0929 - val_loss: 3.3156\n",
      "Epoch 32/100\n",
      "2251/2251 [==============================] - 1s 465us/step - loss: 3.0323 - val_loss: 3.2497\n",
      "Epoch 33/100\n",
      "2251/2251 [==============================] - 1s 375us/step - loss: 2.9711 - val_loss: 3.1927\n",
      "Epoch 34/100\n",
      "2251/2251 [==============================] - 1s 511us/step - loss: 2.9122 - val_loss: 3.1293\n",
      "Epoch 35/100\n",
      "2251/2251 [==============================] - 1s 391us/step - loss: 2.8585 - val_loss: 3.0736\n",
      "Epoch 36/100\n",
      "2251/2251 [==============================] - 1s 462us/step - loss: 2.7926 - val_loss: 3.0241\n",
      "Epoch 37/100\n",
      "2251/2251 [==============================] - 1s 664us/step - loss: 2.7446 - val_loss: 2.9751\n",
      "Epoch 38/100\n",
      "2251/2251 [==============================] - 2s 791us/step - loss: 2.6981 - val_loss: 2.9262\n",
      "Epoch 39/100\n",
      "2251/2251 [==============================] - 3s 1ms/step - loss: 2.6567 - val_loss: 2.8820\n",
      "Epoch 40/100\n",
      "2251/2251 [==============================] - 3s 2ms/step - loss: 2.6151 - val_loss: 2.8406\n",
      "Epoch 41/100\n",
      "2251/2251 [==============================] - 1s 573us/step - loss: 2.5621 - val_loss: 2.7990\n",
      "Epoch 42/100\n",
      "2251/2251 [==============================] - 2s 735us/step - loss: 2.5309 - val_loss: 2.7618\n",
      "Epoch 43/100\n",
      "2251/2251 [==============================] - 1s 645us/step - loss: 2.5005 - val_loss: 2.7221\n",
      "Epoch 44/100\n",
      "2251/2251 [==============================] - 2s 822us/step - loss: 2.4428 - val_loss: 2.6843\n",
      "Epoch 45/100\n",
      "2251/2251 [==============================] - 2s 976us/step - loss: 2.4156 - val_loss: 2.6494\n",
      "Epoch 46/100\n",
      "2251/2251 [==============================] - 2s 929us/step - loss: 2.3786 - val_loss: 2.6151\n",
      "Epoch 47/100\n",
      "2251/2251 [==============================] - 2s 884us/step - loss: 2.3375 - val_loss: 2.5823\n",
      "Epoch 48/100\n",
      "2251/2251 [==============================] - 1s 537us/step - loss: 2.3015 - val_loss: 2.5501\n",
      "Epoch 49/100\n",
      "2251/2251 [==============================] - 1s 665us/step - loss: 2.2722 - val_loss: 2.5200\n",
      "Epoch 50/100\n",
      "2251/2251 [==============================] - 1s 623us/step - loss: 2.2355 - val_loss: 2.4916\n"
     ]
    },
    {
     "name": "stdout",
     "output_type": "stream",
     "text": [
      "Epoch 51/100\n",
      "2251/2251 [==============================] - 1s 439us/step - loss: 2.2230 - val_loss: 2.4634\n",
      "Epoch 52/100\n",
      "2251/2251 [==============================] - 1s 449us/step - loss: 2.1939 - val_loss: 2.4350\n",
      "Epoch 53/100\n",
      "2251/2251 [==============================] - 1s 354us/step - loss: 2.1523 - val_loss: 2.4070\n",
      "Epoch 54/100\n",
      "2251/2251 [==============================] - 1s 411us/step - loss: 2.1142 - val_loss: 2.3801\n",
      "Epoch 55/100\n",
      "2251/2251 [==============================] - 1s 572us/step - loss: 2.0907 - val_loss: 2.3558\n",
      "Epoch 56/100\n",
      "2251/2251 [==============================] - 2s 686us/step - loss: 2.0692 - val_loss: 2.3314\n",
      "Epoch 57/100\n",
      "2251/2251 [==============================] - 1s 423us/step - loss: 2.0523 - val_loss: 2.3074\n",
      "Epoch 58/100\n",
      "2251/2251 [==============================] - 2s 670us/step - loss: 2.0227 - val_loss: 2.2841\n",
      "Epoch 59/100\n",
      "2251/2251 [==============================] - 1s 568us/step - loss: 1.9915 - val_loss: 2.2605\n",
      "Epoch 60/100\n",
      "2251/2251 [==============================] - 1s 505us/step - loss: 1.9641 - val_loss: 2.2382\n",
      "Epoch 61/100\n",
      "2251/2251 [==============================] - 1s 506us/step - loss: 1.9482 - val_loss: 2.2172\n",
      "Epoch 62/100\n",
      "2251/2251 [==============================] - 1s 489us/step - loss: 1.9248 - val_loss: 2.1973\n",
      "Epoch 63/100\n",
      "2251/2251 [==============================] - 1s 514us/step - loss: 1.9015 - val_loss: 2.1753\n",
      "Epoch 64/100\n",
      "2251/2251 [==============================] - 1s 542us/step - loss: 1.8721 - val_loss: 2.1566\n",
      "Epoch 65/100\n",
      "2251/2251 [==============================] - 1s 648us/step - loss: 1.8574 - val_loss: 2.1367\n",
      "Epoch 66/100\n",
      "2251/2251 [==============================] - 1s 498us/step - loss: 1.8432 - val_loss: 2.1183\n",
      "Epoch 67/100\n",
      "2251/2251 [==============================] - 1s 522us/step - loss: 1.8171 - val_loss: 2.0998\n",
      "Epoch 68/100\n",
      "2251/2251 [==============================] - 1s 531us/step - loss: 1.7995 - val_loss: 2.0825\n",
      "Epoch 69/100\n",
      "2251/2251 [==============================] - 1s 439us/step - loss: 1.7757 - val_loss: 2.0644\n",
      "Epoch 70/100\n",
      "2251/2251 [==============================] - 1s 507us/step - loss: 1.7577 - val_loss: 2.0458\n",
      "Epoch 71/100\n",
      "2251/2251 [==============================] - 1s 447us/step - loss: 1.7423 - val_loss: 2.0307\n",
      "Epoch 72/100\n",
      "2251/2251 [==============================] - 1s 504us/step - loss: 1.7208 - val_loss: 2.0140\n",
      "Epoch 73/100\n",
      "2251/2251 [==============================] - 1s 416us/step - loss: 1.7116 - val_loss: 2.0014\n",
      "Epoch 74/100\n",
      "2251/2251 [==============================] - 1s 410us/step - loss: 1.6885 - val_loss: 1.9829\n",
      "Epoch 75/100\n",
      "2251/2251 [==============================] - 1s 496us/step - loss: 1.6737 - val_loss: 1.9670\n",
      "Epoch 76/100\n",
      "2251/2251 [==============================] - 1s 415us/step - loss: 1.6573 - val_loss: 1.9526\n",
      "Epoch 77/100\n",
      "2251/2251 [==============================] - 1s 494us/step - loss: 1.6435 - val_loss: 1.9386\n",
      "Epoch 78/100\n",
      "2251/2251 [==============================] - 1s 421us/step - loss: 1.6292 - val_loss: 1.9239\n",
      "Epoch 79/100\n",
      "2251/2251 [==============================] - 1s 579us/step - loss: 1.6097 - val_loss: 1.9104\n",
      "Epoch 80/100\n",
      "2251/2251 [==============================] - 1s 426us/step - loss: 1.5932 - val_loss: 1.8970\n",
      "Epoch 81/100\n",
      "2251/2251 [==============================] - 1s 496us/step - loss: 1.5780 - val_loss: 1.8830\n",
      "Epoch 82/100\n",
      "2251/2251 [==============================] - 1s 437us/step - loss: 1.5650 - val_loss: 1.8700\n",
      "Epoch 83/100\n",
      "2251/2251 [==============================] - 1s 493us/step - loss: 1.5492 - val_loss: 1.8577\n",
      "Epoch 84/100\n",
      "2251/2251 [==============================] - 1s 401us/step - loss: 1.5396 - val_loss: 1.8456\n",
      "Epoch 85/100\n",
      "2251/2251 [==============================] - 1s 478us/step - loss: 1.5244 - val_loss: 1.8336\n",
      "Epoch 86/100\n",
      "2251/2251 [==============================] - 1s 487us/step - loss: 1.5132 - val_loss: 1.8217\n",
      "Epoch 87/100\n",
      "2251/2251 [==============================] - 1s 491us/step - loss: 1.4999 - val_loss: 1.8108\n",
      "Epoch 88/100\n",
      "2251/2251 [==============================] - 1s 398us/step - loss: 1.4893 - val_loss: 1.7987\n",
      "Epoch 89/100\n",
      "2251/2251 [==============================] - 1s 516us/step - loss: 1.4779 - val_loss: 1.7879\n",
      "Epoch 90/100\n",
      "2251/2251 [==============================] - 1s 447us/step - loss: 1.4638 - val_loss: 1.7770\n",
      "Epoch 91/100\n",
      "2251/2251 [==============================] - 1s 561us/step - loss: 1.4548 - val_loss: 1.7667\n",
      "Epoch 92/100\n",
      "2251/2251 [==============================] - 1s 650us/step - loss: 1.4394 - val_loss: 1.7569\n",
      "Epoch 93/100\n",
      "2251/2251 [==============================] - 1s 568us/step - loss: 1.4300 - val_loss: 1.7455\n",
      "Epoch 94/100\n",
      "2251/2251 [==============================] - 1s 563us/step - loss: 1.4190 - val_loss: 1.7353\n",
      "Epoch 95/100\n",
      "2251/2251 [==============================] - 1s 541us/step - loss: 1.4102 - val_loss: 1.7257\n",
      "Epoch 96/100\n",
      "2251/2251 [==============================] - 1s 558us/step - loss: 1.3970 - val_loss: 1.7160\n",
      "Epoch 97/100\n",
      "2251/2251 [==============================] - 1s 563us/step - loss: 1.3880 - val_loss: 1.7071\n",
      "Epoch 98/100\n",
      "2251/2251 [==============================] - 1s 519us/step - loss: 1.3777 - val_loss: 1.6977\n",
      "Epoch 99/100\n",
      "2251/2251 [==============================] - 1s 556us/step - loss: 1.3696 - val_loss: 1.6894\n",
      "Epoch 100/100\n",
      "2251/2251 [==============================] - 1s 542us/step - loss: 1.3588 - val_loss: 1.6808\n"
     ]
    }
   ],
   "source": [
    "clf3 = AutoEncoder(hidden_neurons =[25, 15, 10, 2, 10,15, 25])\n",
    "clf3.fit(X_train)\n",
    "\n",
    "# clf.decision_function: Predict raw anomaly score of X using the fitted detector.\n",
    "y_test_scores = clf3.decision_function(X_test)  # outlier scores\n",
    "y_test_scores = pd.Series(y_test_scores)"
   ]
  },
  {
   "cell_type": "code",
   "execution_count": 77,
   "metadata": {},
   "outputs": [
    {
     "data": {
      "image/png": "[encoded data removed]",
      "text/plain": [
       "<Figure size 432x288 with 1 Axes>"
      ]
     },
     "metadata": {
      "needs_background": "light"
     },
     "output_type": "display_data"
    }
   ],
   "source": [
    "plt.hist(y_test_scores, bins='auto')  \n",
    "plt.title(\"Histogram with Model Clf3 Anomaly Scores\")\n",
    "plt.show()"
   ]
  },
  {
   "cell_type": "code",
   "execution_count": 78,
   "metadata": {},
   "outputs": [
    {
     "data": {
      "text/plain": [
       "0    665\n",
       "1    170\n",
       "Name: cluster, dtype: int64"
      ]
     },
     "execution_count": 78,
     "metadata": {},
     "output_type": "execute_result"
    }
   ],
   "source": [
    "# 6 should be a good threshold\n",
    "df_test = benchmark_test.reset_index(drop = True)\n",
    "df_test['score'] = y_test_scores\n",
    "df_test['cluster'] = np.where(df_test['score']<6, 1, 0)\n",
    "df_test['cluster'].value_counts()"
   ]
  },
  {
   "cell_type": "code",
   "execution_count": 79,
   "metadata": {},
   "outputs": [
    {
     "data": {
      "text/html": [
       "<div>\n",
       "<style scoped>\n",
       "    .dataframe tbody tr th:only-of-type {\n",
       "        vertical-align: middle;\n",
       "    }\n",
       "\n",
       "    .dataframe tbody tr th {\n",
       "        vertical-align: top;\n",
       "    }\n",
       "\n",
       "    .dataframe thead th {\n",
       "        text-align: right;\n",
       "    }\n",
       "</style>\n",
       "<table border=\"1\" class=\"dataframe\">\n",
       "  <thead>\n",
       "    <tr style=\"text-align: right;\">\n",
       "      <th></th>\n",
       "      <th>Average_Covered_Charges</th>\n",
       "      <th>Average_Covered_Charge_vs_Income_Ratio</th>\n",
       "      <th>Average_Total_Payments</th>\n",
       "      <th>Average_Total_Payments_by_Income_Ratio</th>\n",
       "      <th>Average_Medicare_Payments</th>\n",
       "      <th>Average_Medicare_Payments_by_Income_Ratioe</th>\n",
       "      <th>score</th>\n",
       "    </tr>\n",
       "    <tr>\n",
       "      <th>cluster</th>\n",
       "      <th></th>\n",
       "      <th></th>\n",
       "      <th></th>\n",
       "      <th></th>\n",
       "      <th></th>\n",
       "      <th></th>\n",
       "      <th></th>\n",
       "    </tr>\n",
       "  </thead>\n",
       "  <tbody>\n",
       "    <tr>\n",
       "      <th>0</th>\n",
       "      <td>0.033402</td>\n",
       "      <td>0.025305</td>\n",
       "      <td>0.119973</td>\n",
       "      <td>0.115948</td>\n",
       "      <td>0.115780</td>\n",
       "      <td>0.112851</td>\n",
       "      <td>9.492002</td>\n",
       "    </tr>\n",
       "    <tr>\n",
       "      <th>1</th>\n",
       "      <td>-0.136246</td>\n",
       "      <td>-0.144861</td>\n",
       "      <td>-0.284499</td>\n",
       "      <td>-0.311387</td>\n",
       "      <td>-0.276489</td>\n",
       "      <td>-0.300543</td>\n",
       "      <td>5.263439</td>\n",
       "    </tr>\n",
       "  </tbody>\n",
       "</table>\n",
       "</div>"
      ],
      "text/plain": [
       "         Average_Covered_Charges  Average_Covered_Charge_vs_Income_Ratio  \\\n",
       "cluster                                                                    \n",
       "0                       0.033402                                0.025305   \n",
       "1                      -0.136246                               -0.144861   \n",
       "\n",
       "         Average_Total_Payments  Average_Total_Payments_by_Income_Ratio  \\\n",
       "cluster                                                                   \n",
       "0                      0.119973                                0.115948   \n",
       "1                     -0.284499                               -0.311387   \n",
       "\n",
       "         Average_Medicare_Payments  \\\n",
       "cluster                              \n",
       "0                         0.115780   \n",
       "1                        -0.276489   \n",
       "\n",
       "         Average_Medicare_Payments_by_Income_Ratioe     score  \n",
       "cluster                                                        \n",
       "0                                          0.112851  9.492002  \n",
       "1                                         -0.300543  5.263439  "
      ]
     },
     "execution_count": 79,
     "metadata": {},
     "output_type": "execute_result"
    }
   ],
   "source": [
    "df_test.groupby('cluster').mean()"
   ]
  },
  {
   "cell_type": "markdown",
   "metadata": {},
   "source": [
    "### Achieve Model Stability by Aggregating Multiple Models"
   ]
  },
  {
   "cell_type": "code",
   "execution_count": 80,
   "metadata": {},
   "outputs": [
    {
     "name": "stderr",
     "output_type": "stream",
     "text": [
      "/Users/yihengshen/anaconda3/lib/python3.7/site-packages/sklearn/utils/deprecation.py:143: FutureWarning: The sklearn.utils.testing module is  deprecated in version 0.22 and will be removed in version 0.24. The corresponding classes / functions should instead be imported from sklearn.utils. Anything that cannot be imported from sklearn.utils is now part of the private API.\n",
      "  warnings.warn(message, FutureWarning)\n"
     ]
    }
   ],
   "source": [
    "from pyod.models.combination import aom, moa, average, maximization\n",
    "\n",
    "# Put all the predictions in a data frame\n",
    "train_scores = pd.DataFrame({'clf1': clf1.decision_scores_,\n",
    "                             'clf2': clf2.decision_scores_,\n",
    "                             'clf3': clf3.decision_scores_\n",
    "                            })\n",
    "\n",
    "test_scores  = pd.DataFrame({'clf1': clf1.decision_function(X_test),\n",
    "                             'clf2': clf2.decision_function(X_test),\n",
    "                             'clf3': clf3.decision_function(X_test) \n",
    "                            })"
   ]
  },
  {
   "cell_type": "code",
   "execution_count": 81,
   "metadata": {},
   "outputs": [
    {
     "data": {
      "text/html": [
       "<div>\n",
       "<style scoped>\n",
       "    .dataframe tbody tr th:only-of-type {\n",
       "        vertical-align: middle;\n",
       "    }\n",
       "\n",
       "    .dataframe tbody tr th {\n",
       "        vertical-align: top;\n",
       "    }\n",
       "\n",
       "    .dataframe thead th {\n",
       "        text-align: right;\n",
       "    }\n",
       "</style>\n",
       "<table border=\"1\" class=\"dataframe\">\n",
       "  <thead>\n",
       "    <tr style=\"text-align: right;\">\n",
       "      <th></th>\n",
       "      <th>clf1</th>\n",
       "      <th>clf2</th>\n",
       "      <th>clf3</th>\n",
       "    </tr>\n",
       "  </thead>\n",
       "  <tbody>\n",
       "    <tr>\n",
       "      <th>0</th>\n",
       "      <td>6.084155</td>\n",
       "      <td>6.034186</td>\n",
       "      <td>6.032230</td>\n",
       "    </tr>\n",
       "    <tr>\n",
       "      <th>1</th>\n",
       "      <td>7.240576</td>\n",
       "      <td>7.230576</td>\n",
       "      <td>7.230744</td>\n",
       "    </tr>\n",
       "    <tr>\n",
       "      <th>2</th>\n",
       "      <td>9.945015</td>\n",
       "      <td>9.930511</td>\n",
       "      <td>9.929993</td>\n",
       "    </tr>\n",
       "    <tr>\n",
       "      <th>3</th>\n",
       "      <td>7.459321</td>\n",
       "      <td>7.416960</td>\n",
       "      <td>7.416182</td>\n",
       "    </tr>\n",
       "    <tr>\n",
       "      <th>4</th>\n",
       "      <td>10.443034</td>\n",
       "      <td>10.486752</td>\n",
       "      <td>10.485136</td>\n",
       "    </tr>\n",
       "  </tbody>\n",
       "</table>\n",
       "</div>"
      ],
      "text/plain": [
       "        clf1       clf2       clf3\n",
       "0   6.084155   6.034186   6.032230\n",
       "1   7.240576   7.230576   7.230744\n",
       "2   9.945015   9.930511   9.929993\n",
       "3   7.459321   7.416960   7.416182\n",
       "4  10.443034  10.486752  10.485136"
      ]
     },
     "execution_count": 81,
     "metadata": {},
     "output_type": "execute_result"
    }
   ],
   "source": [
    "train_scores.head()"
   ]
  },
  {
   "cell_type": "code",
   "execution_count": 82,
   "metadata": {},
   "outputs": [],
   "source": [
    "train_scores_norm = StandardScaler().fit_transform(train_scores)\n",
    "train_scores = pd.DataFrame(train_scores)\n",
    "test_scores_norm = StandardScaler().fit_transform(test_scores)\n",
    "test_scores = pd.DataFrame(test_scores)"
   ]
  },
  {
   "cell_type": "code",
   "execution_count": 83,
   "metadata": {},
   "outputs": [
    {
     "data": {
      "text/plain": [
       "(2502, 3)"
      ]
     },
     "execution_count": 83,
     "metadata": {},
     "output_type": "execute_result"
    }
   ],
   "source": [
    "train_scores_norm.shape"
   ]
  },
  {
   "cell_type": "markdown",
   "metadata": {},
   "source": [
    "### (1) Average Method"
   ]
  },
  {
   "cell_type": "code",
   "execution_count": 84,
   "metadata": {},
   "outputs": [
    {
     "data": {
      "image/png": "[encoded data removed]",
      "text/plain": [
       "<Figure size 432x288 with 1 Axes>"
      ]
     },
     "metadata": {
      "needs_background": "light"
     },
     "output_type": "display_data"
    }
   ],
   "source": [
    "# Combination by average\n",
    "y_by_average = average(test_scores_norm)\n",
    "plt.hist(y_by_average, bins='auto')  # arguments are passed to np.histogram\n",
    "plt.title(\"Combination by average\")\n",
    "plt.show()"
   ]
  },
  {
   "cell_type": "code",
   "execution_count": 92,
   "metadata": {},
   "outputs": [
    {
     "data": {
      "text/plain": [
       "0    780\n",
       "1     55\n",
       "Name: y_by_average_cluster, dtype: int64"
      ]
     },
     "execution_count": 92,
     "metadata": {},
     "output_type": "execute_result"
    }
   ],
   "source": [
    "df_test = benchmark_test.reset_index(drop = True)\n",
    "df_test['y_by_average_score'] = y_by_average\n",
    "df_test['y_by_average_cluster'] = np.where(df_test['y_by_average_score'] < 2, 0, 1)\n",
    "df_test['y_by_average_cluster'].value_counts()"
   ]
  },
  {
   "cell_type": "markdown",
   "metadata": {},
   "source": [
    "### (2) Maximum of Maximum Method"
   ]
  },
  {
   "cell_type": "code",
   "execution_count": 86,
   "metadata": {},
   "outputs": [
    {
     "data": {
      "image/png": "[encoded data removed]",
      "text/plain": [
       "<Figure size 432x288 with 1 Axes>"
      ]
     },
     "metadata": {
      "needs_background": "light"
     },
     "output_type": "display_data"
    }
   ],
   "source": [
    "# Combination by max\n",
    "y_by_maximization = maximization(test_scores_norm)\n",
    "plt.hist(y_by_maximization, bins='auto')  # arguments are passed to np.histogram\n",
    "plt.title(\"Combination by max\")\n",
    "plt.show()"
   ]
  },
  {
   "cell_type": "code",
   "execution_count": 91,
   "metadata": {},
   "outputs": [
    {
     "data": {
      "text/plain": [
       "0    766\n",
       "1     69\n",
       "Name: y_by_maximization_cluster, dtype: int64"
      ]
     },
     "execution_count": 91,
     "metadata": {},
     "output_type": "execute_result"
    }
   ],
   "source": [
    "#from the plot I think 2 will be a good threshold\n",
    "df_test = benchmark_test.reset_index(drop = True)\n",
    "df_test['y_by_maximization_score'] = y_by_maximization\n",
    "df_test['y_by_maximization_cluster'] = np.where(df_test['y_by_maximization_score'] < 2, 0, 1)\n",
    "df_test['y_by_maximization_cluster'].value_counts()"
   ]
  },
  {
   "cell_type": "markdown",
   "metadata": {},
   "source": [
    "#### outliers"
   ]
  },
  {
   "cell_type": "code",
   "execution_count": 95,
   "metadata": {},
   "outputs": [
    {
     "data": {
      "text/html": [
       "<div>\n",
       "<style scoped>\n",
       "    .dataframe tbody tr th:only-of-type {\n",
       "        vertical-align: middle;\n",
       "    }\n",
       "\n",
       "    .dataframe tbody tr th {\n",
       "        vertical-align: top;\n",
       "    }\n",
       "\n",
       "    .dataframe thead th {\n",
       "        text-align: right;\n",
       "    }\n",
       "</style>\n",
       "<table border=\"1\" class=\"dataframe\">\n",
       "  <thead>\n",
       "    <tr style=\"text-align: right;\">\n",
       "      <th></th>\n",
       "      <th>Average_Covered_Charges</th>\n",
       "      <th>Average_Covered_Charge_vs_Income_Ratio</th>\n",
       "      <th>Average_Total_Payments</th>\n",
       "      <th>Average_Total_Payments_by_Income_Ratio</th>\n",
       "      <th>Average_Medicare_Payments</th>\n",
       "      <th>Average_Medicare_Payments_by_Income_Ratioe</th>\n",
       "      <th>score</th>\n",
       "      <th>cluster</th>\n",
       "      <th>y_by_average_score</th>\n",
       "    </tr>\n",
       "    <tr>\n",
       "      <th>y_by_average_cluster</th>\n",
       "      <th></th>\n",
       "      <th></th>\n",
       "      <th></th>\n",
       "      <th></th>\n",
       "      <th></th>\n",
       "      <th></th>\n",
       "      <th></th>\n",
       "      <th></th>\n",
       "      <th></th>\n",
       "    </tr>\n",
       "  </thead>\n",
       "  <tbody>\n",
       "    <tr>\n",
       "      <th>0</th>\n",
       "      <td>-0.065149</td>\n",
       "      <td>-0.070134</td>\n",
       "      <td>-0.060343</td>\n",
       "      <td>-0.066148</td>\n",
       "      <td>-0.060872</td>\n",
       "      <td>-0.066320</td>\n",
       "      <td>8.587124</td>\n",
       "      <td>0.744040</td>\n",
       "      <td>-0.166138</td>\n",
       "    </tr>\n",
       "    <tr>\n",
       "      <th>1</th>\n",
       "      <td>1.341427</td>\n",
       "      <td>1.265735</td>\n",
       "      <td>2.092399</td>\n",
       "      <td>2.023413</td>\n",
       "      <td>2.065939</td>\n",
       "      <td>2.021344</td>\n",
       "      <td>8.760244</td>\n",
       "      <td>0.578947</td>\n",
       "      <td>3.484525</td>\n",
       "    </tr>\n",
       "  </tbody>\n",
       "</table>\n",
       "</div>"
      ],
      "text/plain": [
       "                      Average_Covered_Charges  \\\n",
       "y_by_average_cluster                            \n",
       "0                                   -0.065149   \n",
       "1                                    1.341427   \n",
       "\n",
       "                      Average_Covered_Charge_vs_Income_Ratio  \\\n",
       "y_by_average_cluster                                           \n",
       "0                                                  -0.070134   \n",
       "1                                                   1.265735   \n",
       "\n",
       "                      Average_Total_Payments  \\\n",
       "y_by_average_cluster                           \n",
       "0                                  -0.060343   \n",
       "1                                   2.092399   \n",
       "\n",
       "                      Average_Total_Payments_by_Income_Ratio  \\\n",
       "y_by_average_cluster                                           \n",
       "0                                                  -0.066148   \n",
       "1                                                   2.023413   \n",
       "\n",
       "                      Average_Medicare_Payments  \\\n",
       "y_by_average_cluster                              \n",
       "0                                     -0.060872   \n",
       "1                                      2.065939   \n",
       "\n",
       "                      Average_Medicare_Payments_by_Income_Ratioe     score  \\\n",
       "y_by_average_cluster                                                         \n",
       "0                                                      -0.066320  8.587124   \n",
       "1                                                       2.021344  8.760244   \n",
       "\n",
       "                       cluster  y_by_average_score  \n",
       "y_by_average_cluster                                \n",
       "0                     0.744040           -0.166138  \n",
       "1                     0.578947            3.484525  "
      ]
     },
     "execution_count": 95,
     "metadata": {},
     "output_type": "execute_result"
    }
   ],
   "source": [
    "df_test.groupby('y_by_average_cluster').mean()"
   ]
  },
  {
   "cell_type": "code",
   "execution_count": 90,
   "metadata": {},
   "outputs": [
    {
     "data": {
      "text/html": [
       "<div>\n",
       "<style scoped>\n",
       "    .dataframe tbody tr th:only-of-type {\n",
       "        vertical-align: middle;\n",
       "    }\n",
       "\n",
       "    .dataframe tbody tr th {\n",
       "        vertical-align: top;\n",
       "    }\n",
       "\n",
       "    .dataframe thead th {\n",
       "        text-align: right;\n",
       "    }\n",
       "</style>\n",
       "<table border=\"1\" class=\"dataframe\">\n",
       "  <thead>\n",
       "    <tr style=\"text-align: right;\">\n",
       "      <th></th>\n",
       "      <th>Average_Covered_Charges</th>\n",
       "      <th>Average_Covered_Charge_vs_Income_Ratio</th>\n",
       "      <th>Average_Total_Payments</th>\n",
       "      <th>Average_Total_Payments_by_Income_Ratio</th>\n",
       "      <th>Average_Medicare_Payments</th>\n",
       "      <th>Average_Medicare_Payments_by_Income_Ratioe</th>\n",
       "      <th>score</th>\n",
       "      <th>cluster</th>\n",
       "      <th>y_by_maximization_score</th>\n",
       "    </tr>\n",
       "    <tr>\n",
       "      <th>y_by_maximization_cluster</th>\n",
       "      <th></th>\n",
       "      <th></th>\n",
       "      <th></th>\n",
       "      <th></th>\n",
       "      <th></th>\n",
       "      <th></th>\n",
       "      <th></th>\n",
       "      <th></th>\n",
       "      <th></th>\n",
       "    </tr>\n",
       "  </thead>\n",
       "  <tbody>\n",
       "    <tr>\n",
       "      <th>0</th>\n",
       "      <td>-0.065149</td>\n",
       "      <td>-0.070134</td>\n",
       "      <td>-0.060343</td>\n",
       "      <td>-0.066148</td>\n",
       "      <td>-0.060872</td>\n",
       "      <td>-0.066320</td>\n",
       "      <td>8.587124</td>\n",
       "      <td>0.744040</td>\n",
       "      <td>-0.163056</td>\n",
       "    </tr>\n",
       "    <tr>\n",
       "      <th>1</th>\n",
       "      <td>1.341427</td>\n",
       "      <td>1.265735</td>\n",
       "      <td>2.092399</td>\n",
       "      <td>2.023413</td>\n",
       "      <td>2.065939</td>\n",
       "      <td>2.021344</td>\n",
       "      <td>8.760244</td>\n",
       "      <td>0.578947</td>\n",
       "      <td>3.489383</td>\n",
       "    </tr>\n",
       "  </tbody>\n",
       "</table>\n",
       "</div>"
      ],
      "text/plain": [
       "                           Average_Covered_Charges  \\\n",
       "y_by_maximization_cluster                            \n",
       "0                                        -0.065149   \n",
       "1                                         1.341427   \n",
       "\n",
       "                           Average_Covered_Charge_vs_Income_Ratio  \\\n",
       "y_by_maximization_cluster                                           \n",
       "0                                                       -0.070134   \n",
       "1                                                        1.265735   \n",
       "\n",
       "                           Average_Total_Payments  \\\n",
       "y_by_maximization_cluster                           \n",
       "0                                       -0.060343   \n",
       "1                                        2.092399   \n",
       "\n",
       "                           Average_Total_Payments_by_Income_Ratio  \\\n",
       "y_by_maximization_cluster                                           \n",
       "0                                                       -0.066148   \n",
       "1                                                        2.023413   \n",
       "\n",
       "                           Average_Medicare_Payments  \\\n",
       "y_by_maximization_cluster                              \n",
       "0                                          -0.060872   \n",
       "1                                           2.065939   \n",
       "\n",
       "                           Average_Medicare_Payments_by_Income_Ratioe  \\\n",
       "y_by_maximization_cluster                                               \n",
       "0                                                           -0.066320   \n",
       "1                                                            2.021344   \n",
       "\n",
       "                              score   cluster  y_by_maximization_score  \n",
       "y_by_maximization_cluster                                               \n",
       "0                          8.587124  0.744040                -0.163056  \n",
       "1                          8.760244  0.578947                 3.489383  "
      ]
     },
     "execution_count": 90,
     "metadata": {},
     "output_type": "execute_result"
    }
   ],
   "source": [
    "df_test.groupby('y_by_maximization_cluster').mean()"
   ]
  },
  {
   "cell_type": "markdown",
   "metadata": {},
   "source": [
    "### CheckPoint 1\n",
    "The result of Average Method is slightly better than that of Maximization Method. So I list the result generated by the Average Method."
   ]
  },
  {
   "cell_type": "code",
   "execution_count": 93,
   "metadata": {
    "scrolled": true
   },
   "outputs": [
    {
     "name": "stderr",
     "output_type": "stream",
     "text": [
      "/Users/yihengshen/anaconda3/lib/python3.7/site-packages/ipykernel_launcher.py:2: SettingWithCopyWarning: \n",
      "A value is trying to be set on a copy of a slice from a DataFrame.\n",
      "Try using .loc[row_indexer,col_indexer] = value instead\n",
      "\n",
      "See the caveats in the documentation: https://pandas.pydata.org/pandas-docs/stable/user_guide/indexing.html#returning-a-view-versus-a-copy\n",
      "  \n",
      "/Users/yihengshen/anaconda3/lib/python3.7/site-packages/ipykernel_launcher.py:3: SettingWithCopyWarning: \n",
      "A value is trying to be set on a copy of a slice from a DataFrame.\n",
      "Try using .loc[row_indexer,col_indexer] = value instead\n",
      "\n",
      "See the caveats in the documentation: https://pandas.pydata.org/pandas-docs/stable/user_guide/indexing.html#returning-a-view-versus-a-copy\n",
      "  This is separate from the ipykernel package so we can avoid doing imports until\n",
      "/Users/yihengshen/anaconda3/lib/python3.7/site-packages/ipykernel_launcher.py:4: SettingWithCopyWarning: \n",
      "A value is trying to be set on a copy of a slice from a DataFrame.\n",
      "Try using .loc[row_indexer,col_indexer] = value instead\n",
      "\n",
      "See the caveats in the documentation: https://pandas.pydata.org/pandas-docs/stable/user_guide/indexing.html#returning-a-view-versus-a-copy\n",
      "  after removing the cwd from sys.path.\n",
      "/Users/yihengshen/anaconda3/lib/python3.7/site-packages/ipykernel_launcher.py:5: SettingWithCopyWarning: \n",
      "A value is trying to be set on a copy of a slice from a DataFrame.\n",
      "Try using .loc[row_indexer,col_indexer] = value instead\n",
      "\n",
      "See the caveats in the documentation: https://pandas.pydata.org/pandas-docs/stable/user_guide/indexing.html#returning-a-view-versus-a-copy\n",
      "  \"\"\"\n"
     ]
    }
   ],
   "source": [
    "y_train_by_average = average(train_scores_norm)\n",
    "X_train['y_by_average_score'] = y_train_by_average\n",
    "X_train['y_by_average_cluster'] = np.where(X_train['y_by_average_score'] < 2, 0, 1)\n",
    "X_test['y_by_average_score'] = y_by_average\n",
    "X_test['y_by_average_cluster'] = np.where(X_test['y_by_average_score'] < 2, 0, 1)"
   ]
  },
  {
   "cell_type": "code",
   "execution_count": 94,
   "metadata": {},
   "outputs": [
    {
     "data": {
      "text/plain": [
       "0    3157\n",
       "1     180\n",
       "Name: y_by_average_cluster, dtype: int64"
      ]
     },
     "execution_count": 94,
     "metadata": {},
     "output_type": "execute_result"
    }
   ],
   "source": [
    "X = pd.concat([X_train, X_test])\n",
    "X.y_by_average_cluster.value_counts()"
   ]
  },
  {
   "cell_type": "code",
   "execution_count": 87,
   "metadata": {},
   "outputs": [],
   "source": [
    "data_resampled['y_by_average_cluster'] = X['y_by_average_cluster']\n",
    "df_anomaly = data_resampled[data_resampled['y_by_average_cluster'] == 1]"
   ]
  },
  {
   "cell_type": "code",
   "execution_count": 90,
   "metadata": {},
   "outputs": [
    {
     "data": {
      "text/plain": [
       "80                               BROOKWOOD MEDICAL CENTER\n",
       "119           SCOTTSDALE HEALTHCARE-OSBORN MEDICAL CENTER\n",
       "178                        BAXTER REGIONAL MEDICAL CENTER\n",
       "187                        SPARKS REGIONAL MEDICAL CENTER\n",
       "191                     JEFFERSON REGIONAL MEDICAL CENTER\n",
       "199                         MEDICAL CENTER SOUTH ARKANSAS\n",
       "207                        PHYSICIANS' SPECIALTY HOSPITAL\n",
       "208                                      ST ROSE HOSPITAL\n",
       "216                                MERCY GENERAL HOSPITAL\n",
       "218                          RIVERSIDE COMMUNITY HOSPITAL\n",
       "225                     SANTA CLARA VALLEY MEDICAL CENTER\n",
       "233                        SAN GORGONIO MEMORIAL HOSPITAL\n",
       "248                                SCRIPPS MERCY HOSPITAL\n",
       "270                    NORTHRIDGE HOSPITAL MEDICAL CENTER\n",
       "275                   REGIONAL MEDICAL CENTER OF SAN JOSE\n",
       "289          COMMUNITY HOSPITAL OF THE MONTEREY PENINSULA\n",
       "292                       SAINT FRANCIS MEMORIAL HOSPITAL\n",
       "293                                     O'CONNOR HOSPITAL\n",
       "301        JOHN MUIR MEDICAL CENTER - WALNUT CREEK CAMPUS\n",
       "332                     RONALD REAGAN UCLA MEDICAL CENTER\n",
       "337                  PROVIDENCE HOLY CROSS MEDICAL CENTER\n",
       "339                          MERCY MEDICAL CENTER REDDING\n",
       "341                             VALLEYCARE MEDICAL CENTER\n",
       "342                                  SETON MEDICAL CENTER\n",
       "344                   SUTTER MEDICAL CENTER OF SANTA ROSA\n",
       "362                                LODI MEMORIAL HOSPITAL\n",
       "372                               NORTHBAY MEDICAL CENTER\n",
       "379                           HEMET VALLEY MEDICAL CENTER\n",
       "394                          HUNTINGTON MEMORIAL HOSPITAL\n",
       "395                                     STANFORD HOSPITAL\n",
       "398                                   UCSF MEDICAL CENTER\n",
       "404                  WEST HILLS HOSPITAL & MEDICAL CENTER\n",
       "410                          SAINT VINCENT MEDICAL CENTER\n",
       "411                 SCRIPPS MEMORIAL HOSPITAL - ENCINITAS\n",
       "420                           MEMORIAL HOSPITAL LOS BANOS\n",
       "431                              MEMORIAL  MEDICAL CENTER\n",
       "438                      LA PALMA INTERCOMMUNITY HOSPITAL\n",
       "443                      METHODIST HOSPITAL OF SACRAMENTO\n",
       "445         UNIVERSITY OF CALIFORNIA DAVIS MEDICAL CENTER\n",
       "458                        LOS ANGELES COMMUNITY HOSPITAL\n",
       "463                          NORTHBAY VACAVALLEY HOSPITAL\n",
       "473                              FRESNO SURGICAL HOSPITAL\n",
       "474                                DESERT VALLEY HOSPITAL\n",
       "475       SUTTER MATERNITY & SURGERY CENTER OF SANTA CRUZ\n",
       "484                               GARFIELD MEDICAL CENTER\n",
       "485                   GREATER EL MONTE COMMUNITY HOSPITAL\n",
       "490                                CHAPMAN MEDICAL CENTER\n",
       "491                      WESTERN MEDICAL CENTER SANTA ANA\n",
       "501                        SHASTA REGIONAL MEDICAL CENTER\n",
       "515          CENTURA HEALTH-ST MARY CORWIN MEDICAL CENTER\n",
       "517                 PRESBYTERIAN/ST LUKE'S MEDICAL CENTER\n",
       "540                            VAIL VALLEY MEDICAL CENTER\n",
       "551       ORTHOCOLORADO HOSPITAL AT ST ANTHONY MED CAMPUS\n",
       "571                             WILLIAM W BACKUS HOSPITAL\n",
       "591                        GEORGETOWN UNIVERSITY HOSPITAL\n",
       "596                    SHANDS JACKSONVILLE MEDICAL CENTER\n",
       "598                                        ORLANDO HEALTH\n",
       "600                         BAPTIST HOSPITAL OF MIAMI INC\n",
       "601                          UNIVERSITY OF MIAMI HOSPITAL\n",
       "610                                    BAY MEDICAL CENTER\n",
       "622                               FLORIDA HOSPITAL DELAND\n",
       "627                         PALM SPRINGS GENERAL HOSPITAL\n",
       "629                                 WINTER HAVEN HOSPITAL\n",
       "637                                 ST ANTHONY'S HOSPITAL\n",
       "640                        VENICE REGIONAL MEDICAL CENTER\n",
       "664                       BAPTIST MEDICAL CENTER  BEACHES\n",
       "665                              FLORIDA HOSPITAL FLAGLER\n",
       "683                             SOUTH MIAMI HOSPITAL, INC\n",
       "696                             LARKIN COMMUNITY HOSPITAL\n",
       "715                                 WEST FLORIDA HOSPITAL\n",
       "717                                     COLUMBIA HOSPITAL\n",
       "726                  SEVEN RIVERS REGIONAL MEDICAL CENTER\n",
       "731                 REGIONAL MEDICAL CENTER BAYONET POINT\n",
       "770                             EMORY UNIVERSITY HOSPITAL\n",
       "827                                ATLANTA MEDICAL CENTER\n",
       "883                             ST LUKES MAGIC VALLEY RMC\n",
       "893                              TREASURE VALLEY HOSPITAL\n",
       "897                               ALTON MEMORIAL HOSPITAL\n",
       "930                               RHC ST FRANCIS HOSPITAL\n",
       "940                  MORRIS HOSPITAL & HEALTHCARE CENTERS\n",
       "957                             DECATUR MEMORIAL HOSPITAL\n",
       "1018                      ADVOCATE GOOD SHEPHERD HOSPITAL\n",
       "1105                             COMMUNITY HOSPITAL NORTH\n",
       "1116                               IOWA LUTHERAN HOSPITAL\n",
       "1185                     KANSAS SURGERY & RECOVERY CENTER\n",
       "1194                     HEARTLAND SURGICAL SPEC HOSPITAL\n",
       "1195                            KANSAS SPINE HOSPITAL LLC\n",
       "1205                         SAINT JOSEPH HOSPITAL LONDON\n",
       "1207                  THE MEDICAL CENTER AT BOWLING GREEN\n",
       "1218                    ST ELIZABETH MEDICAL CENTER NORTH\n",
       "1248                             WESTERN BAPTIST HOSPITAL\n",
       "1254                          GREENVIEW REGIONAL HOSPITAL\n",
       "1262                                    SAINT JOSEPH EAST\n",
       "1285                        WEST JEFFERSON MEDICAL CENTER\n",
       "1294                       LAKE CHARLES MEMORIAL HOSPITAL\n",
       "1346                           SOUTHERN SURGICAL HOSPITAL\n",
       "1349                      SPECIALISTS HOSPITAL SHREVEPORT\n",
       "1384                          SINAI HOSPITAL OF BALTIMORE\n",
       "1392                          ANNE ARUNDEL MEDICAL CENTER\n",
       "1402                          MEMORIAL HOSPITAL AT EASTON\n",
       "1435                           NORTH SHORE MEDICAL CENTER\n",
       "1500                 UNIVERSITY OF MICHIGAN HEALTH SYSTEM\n",
       "1542                  ST JOHN HOSPITAL AND MEDICAL CENTER\n",
       "1590                     PARK NICOLLET METHODIST HOSPITAL\n",
       "1621                 UNIVERSITY OF MISSISSIPPI MED CENTER\n",
       "1723                             SSM DEPAUL HEALTH CENTER\n",
       "1753                                  ST ALEXIUS HOSPITAL\n",
       "1807         SAINT ROSE DOMINICAN HOSPITAL - SIENA CAMPUS\n",
       "1811                              SIERRA SURGERY HOSPITAL\n",
       "1827                 HACKENSACK UNIVERSITY MEDICAL CENTER\n",
       "1845                              BAYONNE HOSPITAL CENTER\n",
       "1861                                    OVERLOOK HOSPITAL\n",
       "1876                         EAST ORANGE GENERAL HOSPITAL\n",
       "1943                          FAXTON-ST LUKE'S HEALTHCARE\n",
       "2006                          ST FRANCIS HOSPITAL, ROSLYN\n",
       "2012                            MAIMONIDES MEDICAL CENTER\n",
       "2016                    SOUTH NASSAU COMMUNITIES HOSPITAL\n",
       "2023                         ST JOHN'S RIVERSIDE HOSPITAL\n",
       "2051                                 MERCY MEDICAL CENTER\n",
       "2052                        PHELPS MEMORIAL HOSPITAL ASSN\n",
       "2058                         HOSPITAL FOR SPECIAL SURGERY\n",
       "2081                            INTERFAITH MEDICAL CENTER\n",
       "2118                UNIVERSITY OF NORTH CAROLINA HOSPITAL\n",
       "2207                  UNIVERSITY OF TOLEDO MEDICAL CENTER\n",
       "2218                                  TOLEDO HOSPITAL THE\n",
       "2222                                      FLOWER HOSPITAL\n",
       "2226                           ROBINSON MEMORIAL HOSPITAL\n",
       "2237                                      MEDINA HOSPITAL\n",
       "2304                            DUBLIN METHODIST HOSPITAL\n",
       "2335                                  ST ANTHONY HOSPITAL\n",
       "2381                      OKLAHOMA SURGICAL HOSPITAL, LLC\n",
       "2385                     TULSA SPINE & SPECIALTY HOSPITAL\n",
       "2387                                  ORTHOPEDIC HOSPITAL\n",
       "2389                                SUMMIT MEDICAL CENTER\n",
       "2421                     WILLAMETTE VALLEY MEDICAL CENTER\n",
       "2431                                 HOLY SPIRIT HOSPITAL\n",
       "2493                     HOSPITAL OF UNIV OF PENNSYLVANIA\n",
       "2558                      MILTON S HERSHEY MEDICAL CENTER\n",
       "2560                  LEHIGH VALLEY HOSPITAL - MUHLENBERG\n",
       "2574                        SURGICAL INSTITUTE OF READING\n",
       "2578                             OSS ORTHOPAEDIC HOSPITAL\n",
       "2660                    BLACK HILLS SURGICAL HOSPITAL LLP\n",
       "2663                   LEWIS AND CLARK SPECIALTY HOSPITAL\n",
       "2665              JACKSON-MADISON COUNTY GENERAL HOSPITAL\n",
       "2768                     BAYLOR UNIVERSITY MEDICAL CENTER\n",
       "2772                                LAREDO MEDICAL CENTER\n",
       "2802                              BAYSHORE MEDICAL CENTER\n",
       "2816             TEXAS HEALTH HARRIS METHODIST FORT WORTH\n",
       "2828                      MISSION REGIONAL MEDICAL CENTER\n",
       "2835                          ST LUKES EPISCOPAL HOSPITAL\n",
       "2837                        PARIS REGIONAL MEDICAL CENTER\n",
       "2875                         HUNT REGIONAL MEDICAL CENTER\n",
       "2892                             ST DAVIDS MEDICAL CENTER\n",
       "2909                  METHODIST RICHARDSON MEDICAL CENTER\n",
       "2930                       DENTON REGIONAL MEDICAL CENTER\n",
       "2945                                SIERRA MEDICAL CENTER\n",
       "2964                     CYPRESS FAIRBANKS MEDICAL CENTER\n",
       "2975      UT SOUTHWESTERN UNIVERSITY HOSPITAL-ZALE LIPSHY\n",
       "2978                     TOPS SURGICAL SPECIALTY HOSPITAL\n",
       "2981             METHODIST AMBULATORY SURGERY HOSPITAL NW\n",
       "2988                    NORTHWEST HILLS SURGICAL HOSPITAL\n",
       "3008                      BAYLOR MEDICAL CENTER AT FRISCO\n",
       "3010              SOUTH TEXAS SPINE AND SURGICAL HOSPITAL\n",
       "3013                       TEXAS SPINE AND JOINT HOSPITAL\n",
       "3028     TEXAS HEALTH HARRIS METHODIST HOSPITAL SOUTHLAKE\n",
       "3030    TEXAS HEALTH CENTER FOR DIAGNOSTICS & SURGERY ...\n",
       "3032                        PINE CREEK MEDICAL CENTER LLP\n",
       "3082                        MARY WASHINGTON HOSPITAL, INC\n",
       "3083                           THE FAUQUIER HOSPITAL, INC\n",
       "3095                              PRINCE WILLIAM HOSPITAL\n",
       "3096                               SENTARA LEIGH HOSPITAL\n",
       "3143                           UVA HEALTH SCIENCES CENTER\n",
       "3164                      YAKIMA VALLEY MEMORIAL HOSPITAL\n",
       "3168                                   DEACONESS HOSPITAL\n",
       "3215                                 BECKLEY ARH HOSPITAL\n",
       "3280                              ORTHOPAEDIC HSPTL OF WI\n",
       "3295                              ST JOHNS MEDICAL CENTER\n",
       "3302              THE HOSPITAL AT WESTLAKE MEDICAL CENTER\n",
       "3304                         FOUNDATION SURGICAL HOSPITAL\n",
       "3322          FOUNDATION SURGICAL HOSPITAL OF SAN ANTONIO\n",
       "Name: Provider_Name, dtype: object"
      ]
     },
     "execution_count": 90,
     "metadata": {},
     "output_type": "execute_result"
    }
   ],
   "source": [
    "pd.set_option('display.max_rows', 200)\n",
    "df_anomaly.Provider_Name"
   ]
  },
  {
   "cell_type": "markdown",
   "metadata": {},
   "source": [
    "## 2. Isolated Forest"
   ]
  },
  {
   "cell_type": "markdown",
   "metadata": {},
   "source": [
    "Isolation Forest is an anomaly detection algorithm that identifies observations that do not conform to the norm"
   ]
  },
  {
   "cell_type": "code",
   "execution_count": 2,
   "metadata": {},
   "outputs": [],
   "source": [
    "from pyod.models.iforest import IForest"
   ]
  },
  {
   "cell_type": "markdown",
   "metadata": {},
   "source": [
    "### (1) max_samples=100"
   ]
  },
  {
   "cell_type": "code",
   "execution_count": 12,
   "metadata": {
    "scrolled": false
   },
   "outputs": [
    {
     "data": {
      "text/plain": [
       "IForest(behaviour='new', bootstrap=False, contamination=0.1, max_features=1.0,\n",
       "    max_samples=100, n_estimators=100, n_jobs=1, random_state=None,\n",
       "    verbose=0)"
      ]
     },
     "execution_count": 12,
     "metadata": {},
     "output_type": "execute_result"
    }
   ],
   "source": [
    "if1 = IForest(behaviour=\"new\", max_samples=100) \n",
    "if1.fit(X_train)"
   ]
  },
  {
   "cell_type": "code",
   "execution_count": 13,
   "metadata": {
    "scrolled": true
   },
   "outputs": [
    {
     "data": {
      "text/plain": [
       "0   -0.057652\n",
       "1   -0.078409\n",
       "2   -0.040947\n",
       "3   -0.005258\n",
       "4   -0.068833\n",
       "dtype: float64"
      ]
     },
     "execution_count": 13,
     "metadata": {},
     "output_type": "execute_result"
    }
   ],
   "source": [
    "y_test_scores = if1.decision_function(X_test)  # outlier scores\n",
    "y_test_scores = pd.Series(y_test_scores)\n",
    "y_test_scores.head()"
   ]
  },
  {
   "cell_type": "code",
   "execution_count": 17,
   "metadata": {
    "scrolled": true
   },
   "outputs": [
    {
     "data": {
      "image/png": "[encoded data removed]",
      "text/plain": [
       "<Figure size 432x288 with 1 Axes>"
      ]
     },
     "metadata": {
      "needs_background": "light"
     },
     "output_type": "display_data"
    }
   ],
   "source": [
    "plt.hist(y_test_scores, bins='auto')  # arguments are passed to np.histogram\n",
    "plt.title(\"Histogram for Model if1 Anomaly Scores\")\n",
    "plt.show()"
   ]
  },
  {
   "cell_type": "code",
   "execution_count": 20,
   "metadata": {
    "scrolled": true
   },
   "outputs": [
    {
     "data": {
      "text/html": [
       "<div>\n",
       "<style scoped>\n",
       "    .dataframe tbody tr th:only-of-type {\n",
       "        vertical-align: middle;\n",
       "    }\n",
       "\n",
       "    .dataframe tbody tr th {\n",
       "        vertical-align: top;\n",
       "    }\n",
       "\n",
       "    .dataframe thead th {\n",
       "        text-align: right;\n",
       "    }\n",
       "</style>\n",
       "<table border=\"1\" class=\"dataframe\">\n",
       "  <thead>\n",
       "    <tr style=\"text-align: right;\">\n",
       "      <th></th>\n",
       "      <th>Average_Covered_Charges</th>\n",
       "      <th>Average_Covered_Charge_vs_Income_Ratio</th>\n",
       "      <th>Average_Total_Payments</th>\n",
       "      <th>Average_Total_Payments_by_Income_Ratio</th>\n",
       "      <th>Average_Medicare_Payments</th>\n",
       "      <th>Average_Medicare_Payments_by_Income_Ratioe</th>\n",
       "      <th>distance</th>\n",
       "    </tr>\n",
       "    <tr>\n",
       "      <th>cluster</th>\n",
       "      <th></th>\n",
       "      <th></th>\n",
       "      <th></th>\n",
       "      <th></th>\n",
       "      <th></th>\n",
       "      <th></th>\n",
       "      <th></th>\n",
       "    </tr>\n",
       "  </thead>\n",
       "  <tbody>\n",
       "    <tr>\n",
       "      <th>0</th>\n",
       "      <td>-0.072751</td>\n",
       "      <td>-0.078276</td>\n",
       "      <td>-0.034845</td>\n",
       "      <td>-0.042637</td>\n",
       "      <td>-0.034486</td>\n",
       "      <td>-0.041228</td>\n",
       "      <td>-0.042254</td>\n",
       "    </tr>\n",
       "    <tr>\n",
       "      <th>1</th>\n",
       "      <td>5.363354</td>\n",
       "      <td>5.154629</td>\n",
       "      <td>5.466343</td>\n",
       "      <td>5.391143</td>\n",
       "      <td>5.309748</td>\n",
       "      <td>5.265974</td>\n",
       "      <td>0.189032</td>\n",
       "    </tr>\n",
       "  </tbody>\n",
       "</table>\n",
       "</div>"
      ],
      "text/plain": [
       "         Average_Covered_Charges  Average_Covered_Charge_vs_Income_Ratio  \\\n",
       "cluster                                                                    \n",
       "0                      -0.072751                               -0.078276   \n",
       "1                       5.363354                                5.154629   \n",
       "\n",
       "         Average_Total_Payments  Average_Total_Payments_by_Income_Ratio  \\\n",
       "cluster                                                                   \n",
       "0                     -0.034845                               -0.042637   \n",
       "1                      5.466343                                5.391143   \n",
       "\n",
       "         Average_Medicare_Payments  \\\n",
       "cluster                              \n",
       "0                        -0.034486   \n",
       "1                         5.309748   \n",
       "\n",
       "         Average_Medicare_Payments_by_Income_Ratioe  distance  \n",
       "cluster                                                        \n",
       "0                                         -0.041228 -0.042254  \n",
       "1                                          5.265974  0.189032  "
      ]
     },
     "execution_count": 20,
     "metadata": {},
     "output_type": "execute_result"
    }
   ],
   "source": [
    "X_test_cluster = benchmark_test.reset_index(drop = True)\n",
    "X_test_cluster['distance'] = y_test_scores\n",
    "X_test_cluster['cluster'] = np.where(X_test_cluster['distance']<0.15, 0, 1)\n",
    "X_test_cluster['cluster'].value_counts()\n",
    "\n",
    "X_test_cluster.groupby('cluster').mean()"
   ]
  },
  {
   "cell_type": "markdown",
   "metadata": {},
   "source": [
    "### (2) max_samples=80"
   ]
  },
  {
   "cell_type": "code",
   "execution_count": 21,
   "metadata": {},
   "outputs": [
    {
     "data": {
      "text/plain": [
       "IForest(behaviour='new', bootstrap=False, contamination=0.1, max_features=1.0,\n",
       "    max_samples=80, n_estimators=100, n_jobs=1, random_state=None,\n",
       "    verbose=0)"
      ]
     },
     "execution_count": 21,
     "metadata": {},
     "output_type": "execute_result"
    }
   ],
   "source": [
    "if2 = IForest(behaviour=\"new\", max_samples=80) \n",
    "if2.fit(X_train)"
   ]
  },
  {
   "cell_type": "code",
   "execution_count": 22,
   "metadata": {},
   "outputs": [
    {
     "data": {
      "text/plain": [
       "0   -0.025695\n",
       "1   -0.092948\n",
       "2   -0.048663\n",
       "3   -0.024689\n",
       "4   -0.061065\n",
       "dtype: float64"
      ]
     },
     "execution_count": 22,
     "metadata": {},
     "output_type": "execute_result"
    }
   ],
   "source": [
    "y_test_scores = if2.decision_function(X_test)\n",
    "y_test_scores = pd.Series(y_test_scores)\n",
    "y_test_scores.head()"
   ]
  },
  {
   "cell_type": "code",
   "execution_count": 23,
   "metadata": {},
   "outputs": [
    {
     "data": {
      "image/png": "[encoded data removed]",
      "text/plain": [
       "<Figure size 432x288 with 1 Axes>"
      ]
     },
     "metadata": {
      "needs_background": "light"
     },
     "output_type": "display_data"
    }
   ],
   "source": [
    "plt.hist(y_test_scores, bins='auto')  # arguments are passed to np.histogram\n",
    "plt.title(\"Histogram for Model if2 Anomaly Scores\")\n",
    "plt.show()"
   ]
  },
  {
   "cell_type": "code",
   "execution_count": 24,
   "metadata": {},
   "outputs": [
    {
     "data": {
      "text/html": [
       "<div>\n",
       "<style scoped>\n",
       "    .dataframe tbody tr th:only-of-type {\n",
       "        vertical-align: middle;\n",
       "    }\n",
       "\n",
       "    .dataframe tbody tr th {\n",
       "        vertical-align: top;\n",
       "    }\n",
       "\n",
       "    .dataframe thead th {\n",
       "        text-align: right;\n",
       "    }\n",
       "</style>\n",
       "<table border=\"1\" class=\"dataframe\">\n",
       "  <thead>\n",
       "    <tr style=\"text-align: right;\">\n",
       "      <th></th>\n",
       "      <th>Average_Covered_Charges</th>\n",
       "      <th>Average_Covered_Charge_vs_Income_Ratio</th>\n",
       "      <th>Average_Total_Payments</th>\n",
       "      <th>Average_Total_Payments_by_Income_Ratio</th>\n",
       "      <th>Average_Medicare_Payments</th>\n",
       "      <th>Average_Medicare_Payments_by_Income_Ratioe</th>\n",
       "      <th>distance</th>\n",
       "    </tr>\n",
       "    <tr>\n",
       "      <th>cluster</th>\n",
       "      <th></th>\n",
       "      <th></th>\n",
       "      <th></th>\n",
       "      <th></th>\n",
       "      <th></th>\n",
       "      <th></th>\n",
       "      <th></th>\n",
       "    </tr>\n",
       "  </thead>\n",
       "  <tbody>\n",
       "    <tr>\n",
       "      <th>0</th>\n",
       "      <td>-0.017000</td>\n",
       "      <td>-0.023034</td>\n",
       "      <td>0.025189</td>\n",
       "      <td>0.018287</td>\n",
       "      <td>0.022559</td>\n",
       "      <td>0.017191</td>\n",
       "      <td>-0.042815</td>\n",
       "    </tr>\n",
       "    <tr>\n",
       "      <th>1</th>\n",
       "      <td>6.605515</td>\n",
       "      <td>5.694171</td>\n",
       "      <td>5.217535</td>\n",
       "      <td>4.468471</td>\n",
       "      <td>5.599461</td>\n",
       "      <td>4.816832</td>\n",
       "      <td>0.171637</td>\n",
       "    </tr>\n",
       "  </tbody>\n",
       "</table>\n",
       "</div>"
      ],
      "text/plain": [
       "         Average_Covered_Charges  Average_Covered_Charge_vs_Income_Ratio  \\\n",
       "cluster                                                                    \n",
       "0                      -0.017000                               -0.023034   \n",
       "1                       6.605515                                5.694171   \n",
       "\n",
       "         Average_Total_Payments  Average_Total_Payments_by_Income_Ratio  \\\n",
       "cluster                                                                   \n",
       "0                      0.025189                                0.018287   \n",
       "1                      5.217535                                4.468471   \n",
       "\n",
       "         Average_Medicare_Payments  \\\n",
       "cluster                              \n",
       "0                         0.022559   \n",
       "1                         5.599461   \n",
       "\n",
       "         Average_Medicare_Payments_by_Income_Ratioe  distance  \n",
       "cluster                                                        \n",
       "0                                          0.017191 -0.042815  \n",
       "1                                          4.816832  0.171637  "
      ]
     },
     "execution_count": 24,
     "metadata": {},
     "output_type": "execute_result"
    }
   ],
   "source": [
    "X_test_cluster = benchmark_test.reset_index(drop = True)\n",
    "X_test_cluster['distance'] = y_test_scores\n",
    "X_test_cluster['cluster'] = np.where(X_test_cluster['distance']<0.15, 0, 1)\n",
    "X_test_cluster['cluster'].value_counts()\n",
    "\n",
    "X_test_cluster.groupby('cluster').mean()"
   ]
  },
  {
   "cell_type": "markdown",
   "metadata": {},
   "source": [
    "### (3) max_samples=60"
   ]
  },
  {
   "cell_type": "code",
   "execution_count": 25,
   "metadata": {},
   "outputs": [
    {
     "data": {
      "text/plain": [
       "IForest(behaviour='new', bootstrap=False, contamination=0.1, max_features=1.0,\n",
       "    max_samples=60, n_estimators=100, n_jobs=1, random_state=None,\n",
       "    verbose=0)"
      ]
     },
     "execution_count": 25,
     "metadata": {},
     "output_type": "execute_result"
    }
   ],
   "source": [
    "if3 = IForest(behaviour=\"new\", max_samples=60) \n",
    "if3.fit(X_train)"
   ]
  },
  {
   "cell_type": "code",
   "execution_count": 26,
   "metadata": {},
   "outputs": [
    {
     "data": {
      "text/plain": [
       "0   -0.052970\n",
       "1   -0.099357\n",
       "2   -0.045334\n",
       "3   -0.002042\n",
       "4   -0.087634\n",
       "dtype: float64"
      ]
     },
     "execution_count": 26,
     "metadata": {},
     "output_type": "execute_result"
    }
   ],
   "source": [
    "y_test_scores = if3.decision_function(X_test)  # outlier scores\n",
    "y_test_scores = pd.Series(y_test_scores)\n",
    "y_test_scores.head()"
   ]
  },
  {
   "cell_type": "code",
   "execution_count": 27,
   "metadata": {},
   "outputs": [
    {
     "data": {
      "image/png": "[encoded data removed]",
      "text/plain": [
       "<Figure size 432x288 with 1 Axes>"
      ]
     },
     "metadata": {
      "needs_background": "light"
     },
     "output_type": "display_data"
    }
   ],
   "source": [
    "plt.hist(y_test_scores, bins='auto')  # arguments are passed to np.histogram\n",
    "plt.title(\"Histogram for Model clf3 Anomaly Scores\")\n",
    "plt.show()"
   ]
  },
  {
   "cell_type": "code",
   "execution_count": 28,
   "metadata": {},
   "outputs": [
    {
     "data": {
      "text/html": [
       "<div>\n",
       "<style scoped>\n",
       "    .dataframe tbody tr th:only-of-type {\n",
       "        vertical-align: middle;\n",
       "    }\n",
       "\n",
       "    .dataframe tbody tr th {\n",
       "        vertical-align: top;\n",
       "    }\n",
       "\n",
       "    .dataframe thead th {\n",
       "        text-align: right;\n",
       "    }\n",
       "</style>\n",
       "<table border=\"1\" class=\"dataframe\">\n",
       "  <thead>\n",
       "    <tr style=\"text-align: right;\">\n",
       "      <th></th>\n",
       "      <th>Average_Covered_Charges</th>\n",
       "      <th>Average_Covered_Charge_vs_Income_Ratio</th>\n",
       "      <th>Average_Total_Payments</th>\n",
       "      <th>Average_Total_Payments_by_Income_Ratio</th>\n",
       "      <th>Average_Medicare_Payments</th>\n",
       "      <th>Average_Medicare_Payments_by_Income_Ratioe</th>\n",
       "      <th>distance</th>\n",
       "    </tr>\n",
       "    <tr>\n",
       "      <th>cluster</th>\n",
       "      <th></th>\n",
       "      <th></th>\n",
       "      <th></th>\n",
       "      <th></th>\n",
       "      <th></th>\n",
       "      <th></th>\n",
       "      <th></th>\n",
       "    </tr>\n",
       "  </thead>\n",
       "  <tbody>\n",
       "    <tr>\n",
       "      <th>0</th>\n",
       "      <td>-0.017000</td>\n",
       "      <td>-0.023034</td>\n",
       "      <td>0.025189</td>\n",
       "      <td>0.018287</td>\n",
       "      <td>0.022559</td>\n",
       "      <td>0.017191</td>\n",
       "      <td>-0.052415</td>\n",
       "    </tr>\n",
       "    <tr>\n",
       "      <th>1</th>\n",
       "      <td>6.605515</td>\n",
       "      <td>5.694171</td>\n",
       "      <td>5.217535</td>\n",
       "      <td>4.468471</td>\n",
       "      <td>5.599461</td>\n",
       "      <td>4.816832</td>\n",
       "      <td>0.158433</td>\n",
       "    </tr>\n",
       "  </tbody>\n",
       "</table>\n",
       "</div>"
      ],
      "text/plain": [
       "         Average_Covered_Charges  Average_Covered_Charge_vs_Income_Ratio  \\\n",
       "cluster                                                                    \n",
       "0                      -0.017000                               -0.023034   \n",
       "1                       6.605515                                5.694171   \n",
       "\n",
       "         Average_Total_Payments  Average_Total_Payments_by_Income_Ratio  \\\n",
       "cluster                                                                   \n",
       "0                      0.025189                                0.018287   \n",
       "1                      5.217535                                4.468471   \n",
       "\n",
       "         Average_Medicare_Payments  \\\n",
       "cluster                              \n",
       "0                         0.022559   \n",
       "1                         5.599461   \n",
       "\n",
       "         Average_Medicare_Payments_by_Income_Ratioe  distance  \n",
       "cluster                                                        \n",
       "0                                          0.017191 -0.052415  \n",
       "1                                          4.816832  0.158433  "
      ]
     },
     "execution_count": 28,
     "metadata": {},
     "output_type": "execute_result"
    }
   ],
   "source": [
    "X_test_cluster = benchmark_test.reset_index(drop = True)\n",
    "X_test_cluster['distance'] = y_test_scores\n",
    "X_test_cluster['cluster'] = np.where(X_test_cluster['distance']<0.15, 0, 1)\n",
    "X_test_cluster['cluster'].value_counts()\n",
    "\n",
    "X_test_cluster.groupby('cluster').mean()"
   ]
  },
  {
   "cell_type": "markdown",
   "metadata": {},
   "source": [
    "### Achieve Model Stability by Aggregating Multiple Models"
   ]
  },
  {
   "cell_type": "code",
   "execution_count": 30,
   "metadata": {},
   "outputs": [],
   "source": [
    "train_scores = pd.DataFrame({'if1': if1.decision_scores_,\n",
    "                             'if2': if2.decision_scores_,\n",
    "                             'if3': if3.decision_scores_\n",
    "                            })"
   ]
  },
  {
   "cell_type": "code",
   "execution_count": 31,
   "metadata": {},
   "outputs": [],
   "source": [
    "test_scores  = pd.DataFrame({'if1': if1.decision_function(X_test),\n",
    "                             'if2': if2.decision_function(X_test),\n",
    "                             'if3': if3.decision_function(X_test) \n",
    "                            })"
   ]
  },
  {
   "cell_type": "code",
   "execution_count": 32,
   "metadata": {},
   "outputs": [
    {
     "data": {
      "text/plain": [
       "(2502, 3)"
      ]
     },
     "execution_count": 32,
     "metadata": {},
     "output_type": "execute_result"
    }
   ],
   "source": [
    "train_scores_norm, test_scores_norm = standardizer(train_scores,test_scores)\n",
    "train_scores_norm.shape"
   ]
  },
  {
   "cell_type": "markdown",
   "metadata": {},
   "source": [
    "### (1) Average Method"
   ]
  },
  {
   "cell_type": "code",
   "execution_count": 76,
   "metadata": {},
   "outputs": [
    {
     "data": {
      "image/png": "[encoded data removed]",
      "text/plain": [
       "<Figure size 432x288 with 1 Axes>"
      ]
     },
     "metadata": {
      "needs_background": "light"
     },
     "output_type": "display_data"
    }
   ],
   "source": [
    "y_by_average = average(test_scores_norm)\n",
    "             \n",
    "plt.hist(y_by_average, bins='auto')  # arguments are passed to np.histogram\n",
    "plt.title(\"Combination by average\")\n",
    "plt.show()"
   ]
  },
  {
   "cell_type": "markdown",
   "metadata": {},
   "source": [
    "### (2) Maximum of Maximum Method"
   ]
  },
  {
   "cell_type": "code",
   "execution_count": 35,
   "metadata": {},
   "outputs": [
    {
     "data": {
      "image/png": "[encoded data removed]",
      "text/plain": [
       "<Figure size 432x288 with 1 Axes>"
      ]
     },
     "metadata": {
      "needs_background": "light"
     },
     "output_type": "display_data"
    }
   ],
   "source": [
    "y_by_maximization = maximization(test_scores_norm)\n",
    "             \n",
    "plt.hist(y_by_maximization, bins='auto')  # arguments are passed to np.histogram\n",
    "plt.title(\"Combination by max\")\n",
    "plt.show()"
   ]
  },
  {
   "cell_type": "markdown",
   "metadata": {},
   "source": [
    "### Outilers"
   ]
  },
  {
   "cell_type": "code",
   "execution_count": 59,
   "metadata": {},
   "outputs": [
    {
     "data": {
      "text/html": [
       "<div>\n",
       "<style scoped>\n",
       "    .dataframe tbody tr th:only-of-type {\n",
       "        vertical-align: middle;\n",
       "    }\n",
       "\n",
       "    .dataframe tbody tr th {\n",
       "        vertical-align: top;\n",
       "    }\n",
       "\n",
       "    .dataframe thead th {\n",
       "        text-align: right;\n",
       "    }\n",
       "</style>\n",
       "<table border=\"1\" class=\"dataframe\">\n",
       "  <thead>\n",
       "    <tr style=\"text-align: right;\">\n",
       "      <th></th>\n",
       "      <th>Average_Covered_Charges</th>\n",
       "      <th>Average_Covered_Charge_vs_Income_Ratio</th>\n",
       "      <th>Average_Total_Payments</th>\n",
       "      <th>Average_Total_Payments_by_Income_Ratio</th>\n",
       "      <th>Average_Medicare_Payments</th>\n",
       "      <th>Average_Medicare_Payments_by_Income_Ratioe</th>\n",
       "      <th>y_by_average_score</th>\n",
       "    </tr>\n",
       "    <tr>\n",
       "      <th>y_by_average_cluster</th>\n",
       "      <th></th>\n",
       "      <th></th>\n",
       "      <th></th>\n",
       "      <th></th>\n",
       "      <th></th>\n",
       "      <th></th>\n",
       "      <th></th>\n",
       "    </tr>\n",
       "  </thead>\n",
       "  <tbody>\n",
       "    <tr>\n",
       "      <th>0</th>\n",
       "      <td>-0.12</td>\n",
       "      <td>-0.13</td>\n",
       "      <td>-0.12</td>\n",
       "      <td>-0.13</td>\n",
       "      <td>-0.12</td>\n",
       "      <td>-0.12</td>\n",
       "      <td>-0.08</td>\n",
       "    </tr>\n",
       "    <tr>\n",
       "      <th>1</th>\n",
       "      <td>3.18</td>\n",
       "      <td>3.14</td>\n",
       "      <td>4.05</td>\n",
       "      <td>4.07</td>\n",
       "      <td>3.98</td>\n",
       "      <td>4.00</td>\n",
       "      <td>3.96</td>\n",
       "    </tr>\n",
       "  </tbody>\n",
       "</table>\n",
       "</div>"
      ],
      "text/plain": [
       "                      Average_Covered_Charges  \\\n",
       "y_by_average_cluster                            \n",
       "0                                       -0.12   \n",
       "1                                        3.18   \n",
       "\n",
       "                      Average_Covered_Charge_vs_Income_Ratio  \\\n",
       "y_by_average_cluster                                           \n",
       "0                                                      -0.13   \n",
       "1                                                       3.14   \n",
       "\n",
       "                      Average_Total_Payments  \\\n",
       "y_by_average_cluster                           \n",
       "0                                      -0.12   \n",
       "1                                       4.05   \n",
       "\n",
       "                      Average_Total_Payments_by_Income_Ratio  \\\n",
       "y_by_average_cluster                                           \n",
       "0                                                      -0.13   \n",
       "1                                                       4.07   \n",
       "\n",
       "                      Average_Medicare_Payments  \\\n",
       "y_by_average_cluster                              \n",
       "0                                         -0.12   \n",
       "1                                          3.98   \n",
       "\n",
       "                      Average_Medicare_Payments_by_Income_Ratioe  \\\n",
       "y_by_average_cluster                                               \n",
       "0                                                          -0.12   \n",
       "1                                                           4.00   \n",
       "\n",
       "                      y_by_average_score  \n",
       "y_by_average_cluster                      \n",
       "0                                  -0.08  \n",
       "1                                   3.96  "
      ]
     },
     "execution_count": 59,
     "metadata": {},
     "output_type": "execute_result"
    }
   ],
   "source": [
    "df_test = benchmark_test.reset_index(drop = True)\n",
    "df_test['y_by_average_score'] = y_by_average\n",
    "df_test['y_by_average_cluster'] = np.where(df_test['y_by_average_score'] < 3, 0, 1)\n",
    "df_test['y_by_average_cluster'].value_counts()\n",
    "\n",
    "df_test.groupby('y_by_average_cluster').mean().round(2)"
   ]
  },
  {
   "cell_type": "code",
   "execution_count": 60,
   "metadata": {},
   "outputs": [
    {
     "data": {
      "text/html": [
       "<div>\n",
       "<style scoped>\n",
       "    .dataframe tbody tr th:only-of-type {\n",
       "        vertical-align: middle;\n",
       "    }\n",
       "\n",
       "    .dataframe tbody tr th {\n",
       "        vertical-align: top;\n",
       "    }\n",
       "\n",
       "    .dataframe thead th {\n",
       "        text-align: right;\n",
       "    }\n",
       "</style>\n",
       "<table border=\"1\" class=\"dataframe\">\n",
       "  <thead>\n",
       "    <tr style=\"text-align: right;\">\n",
       "      <th></th>\n",
       "      <th>Average_Covered_Charges</th>\n",
       "      <th>Average_Covered_Charge_vs_Income_Ratio</th>\n",
       "      <th>Average_Total_Payments</th>\n",
       "      <th>Average_Total_Payments_by_Income_Ratio</th>\n",
       "      <th>Average_Medicare_Payments</th>\n",
       "      <th>Average_Medicare_Payments_by_Income_Ratioe</th>\n",
       "      <th>y_by_maximization_score</th>\n",
       "    </tr>\n",
       "    <tr>\n",
       "      <th>y_by_maximization_cluster</th>\n",
       "      <th></th>\n",
       "      <th></th>\n",
       "      <th></th>\n",
       "      <th></th>\n",
       "      <th></th>\n",
       "      <th></th>\n",
       "      <th></th>\n",
       "    </tr>\n",
       "  </thead>\n",
       "  <tbody>\n",
       "    <tr>\n",
       "      <th>0</th>\n",
       "      <td>-0.14</td>\n",
       "      <td>-0.15</td>\n",
       "      <td>-0.13</td>\n",
       "      <td>-0.14</td>\n",
       "      <td>-0.13</td>\n",
       "      <td>-0.14</td>\n",
       "      <td>0.12</td>\n",
       "    </tr>\n",
       "    <tr>\n",
       "      <th>1</th>\n",
       "      <td>2.99</td>\n",
       "      <td>2.93</td>\n",
       "      <td>3.75</td>\n",
       "      <td>3.72</td>\n",
       "      <td>3.69</td>\n",
       "      <td>3.67</td>\n",
       "      <td>4.27</td>\n",
       "    </tr>\n",
       "  </tbody>\n",
       "</table>\n",
       "</div>"
      ],
      "text/plain": [
       "                           Average_Covered_Charges  \\\n",
       "y_by_maximization_cluster                            \n",
       "0                                            -0.14   \n",
       "1                                             2.99   \n",
       "\n",
       "                           Average_Covered_Charge_vs_Income_Ratio  \\\n",
       "y_by_maximization_cluster                                           \n",
       "0                                                           -0.15   \n",
       "1                                                            2.93   \n",
       "\n",
       "                           Average_Total_Payments  \\\n",
       "y_by_maximization_cluster                           \n",
       "0                                           -0.13   \n",
       "1                                            3.75   \n",
       "\n",
       "                           Average_Total_Payments_by_Income_Ratio  \\\n",
       "y_by_maximization_cluster                                           \n",
       "0                                                           -0.14   \n",
       "1                                                            3.72   \n",
       "\n",
       "                           Average_Medicare_Payments  \\\n",
       "y_by_maximization_cluster                              \n",
       "0                                              -0.13   \n",
       "1                                               3.69   \n",
       "\n",
       "                           Average_Medicare_Payments_by_Income_Ratioe  \\\n",
       "y_by_maximization_cluster                                               \n",
       "0                                                               -0.14   \n",
       "1                                                                3.67   \n",
       "\n",
       "                           y_by_maximization_score  \n",
       "y_by_maximization_cluster                           \n",
       "0                                             0.12  \n",
       "1                                             4.27  "
      ]
     },
     "execution_count": 60,
     "metadata": {},
     "output_type": "execute_result"
    }
   ],
   "source": [
    "df_test = benchmark_test.reset_index(drop = True)\n",
    "df_test['y_by_maximization_score'] = y_by_maximization\n",
    "df_test['y_by_maximization_cluster'] = np.where(df_test['y_by_maximization_score'] < 3, 0, 1)\n",
    "df_test['y_by_maximization_cluster'].value_counts()\n",
    "\n",
    "df_test.groupby('y_by_maximization_cluster').mean().round(2)"
   ]
  },
  {
   "cell_type": "markdown",
   "metadata": {},
   "source": [
    "### CheckPoint 2\n",
    "Average Method is better than Maximum of Maximum Method indicated by all benchmarks. This is the list of overcharging hospitals."
   ]
  },
  {
   "cell_type": "code",
   "execution_count": 65,
   "metadata": {},
   "outputs": [
    {
     "name": "stderr",
     "output_type": "stream",
     "text": [
      "/Users/yihengshen/anaconda3/lib/python3.7/site-packages/ipykernel_launcher.py:2: SettingWithCopyWarning: \n",
      "A value is trying to be set on a copy of a slice from a DataFrame.\n",
      "Try using .loc[row_indexer,col_indexer] = value instead\n",
      "\n",
      "See the caveats in the documentation: https://pandas.pydata.org/pandas-docs/stable/user_guide/indexing.html#returning-a-view-versus-a-copy\n",
      "  \n",
      "/Users/yihengshen/anaconda3/lib/python3.7/site-packages/ipykernel_launcher.py:3: SettingWithCopyWarning: \n",
      "A value is trying to be set on a copy of a slice from a DataFrame.\n",
      "Try using .loc[row_indexer,col_indexer] = value instead\n",
      "\n",
      "See the caveats in the documentation: https://pandas.pydata.org/pandas-docs/stable/user_guide/indexing.html#returning-a-view-versus-a-copy\n",
      "  This is separate from the ipykernel package so we can avoid doing imports until\n",
      "/Users/yihengshen/anaconda3/lib/python3.7/site-packages/ipykernel_launcher.py:4: SettingWithCopyWarning: \n",
      "A value is trying to be set on a copy of a slice from a DataFrame.\n",
      "Try using .loc[row_indexer,col_indexer] = value instead\n",
      "\n",
      "See the caveats in the documentation: https://pandas.pydata.org/pandas-docs/stable/user_guide/indexing.html#returning-a-view-versus-a-copy\n",
      "  after removing the cwd from sys.path.\n",
      "/Users/yihengshen/anaconda3/lib/python3.7/site-packages/ipykernel_launcher.py:5: SettingWithCopyWarning: \n",
      "A value is trying to be set on a copy of a slice from a DataFrame.\n",
      "Try using .loc[row_indexer,col_indexer] = value instead\n",
      "\n",
      "See the caveats in the documentation: https://pandas.pydata.org/pandas-docs/stable/user_guide/indexing.html#returning-a-view-versus-a-copy\n",
      "  \"\"\"\n"
     ]
    }
   ],
   "source": [
    "y_train_by_maximization = maximization(train_scores)\n",
    "X_train['y_by_maximization_score'] = y_train_by_maximization\n",
    "X_train['y_by_maximization_cluster'] = np.where(X_train['y_by_maximization_score'] < 2, 0, 1)\n",
    "X_test['y_by_maximization_score'] = y_by_maximization\n",
    "X_test['y_by_maximization_cluster'] = np.where(df_test['y_by_maximization_score'] < 2, 0, 1)"
   ]
  },
  {
   "cell_type": "code",
   "execution_count": 67,
   "metadata": {},
   "outputs": [
    {
     "data": {
      "text/plain": [
       "0    3268\n",
       "1      69\n",
       "Name: y_by_maximization_cluster, dtype: int64"
      ]
     },
     "execution_count": 67,
     "metadata": {},
     "output_type": "execute_result"
    }
   ],
   "source": [
    "X = pd.concat([X_train, X_test])\n",
    "X.y_by_maximization_cluster.value_counts()"
   ]
  },
  {
   "cell_type": "code",
   "execution_count": 68,
   "metadata": {},
   "outputs": [],
   "source": [
    "data_resampled['y_by_maximization_cluster'] = X['y_by_maximization_cluster']\n",
    "df_anomaly = data_resampled[data_resampled['y_by_maximization_cluster'] == 1]"
   ]
  },
  {
   "cell_type": "code",
   "execution_count": 73,
   "metadata": {},
   "outputs": [
    {
     "data": {
      "text/plain": [
       "187                       SPARKS REGIONAL MEDICAL CENTER\n",
       "218                         RIVERSIDE COMMUNITY HOSPITAL\n",
       "248                               SCRIPPS MERCY HOSPITAL\n",
       "289         COMMUNITY HOSPITAL OF THE MONTEREY PENINSULA\n",
       "292                      SAINT FRANCIS MEMORIAL HOSPITAL\n",
       "299                         SANTA ROSA MEMORIAL HOSPITAL\n",
       "301       JOHN MUIR MEDICAL CENTER - WALNUT CREEK CAMPUS\n",
       "306                                  WASHINGTON HOSPITAL\n",
       "318                POMONA VALLEY HOSPITAL MEDICAL CENTER\n",
       "321                  PROVIDENCE SAINT JOSEPH MEDICAL CTR\n",
       "394                         HUNTINGTON MEMORIAL HOSPITAL\n",
       "420                          MEMORIAL HOSPITAL LOS BANOS\n",
       "438                     LA PALMA INTERCOMMUNITY HOSPITAL\n",
       "445        UNIVERSITY OF CALIFORNIA DAVIS MEDICAL CENTER\n",
       "453                          CEDARS-SINAI MEDICAL CENTER\n",
       "473                             FRESNO SURGICAL HOSPITAL\n",
       "485                  GREATER EL MONTE COMMUNITY HOSPITAL\n",
       "490                               CHAPMAN MEDICAL CENTER\n",
       "517                PRESBYTERIAN/ST LUKE'S MEDICAL CENTER\n",
       "540                           VAIL VALLEY MEDICAL CENTER\n",
       "549                     ST ANTHONY SUMMIT MEDICAL CENTER\n",
       "571                            WILLIAM W BACKUS HOSPITAL\n",
       "598                                       ORLANDO HEALTH\n",
       "600                        BAPTIST HOSPITAL OF MIAMI INC\n",
       "610                                   BAY MEDICAL CENTER\n",
       "627                        PALM SPRINGS GENERAL HOSPITAL\n",
       "664                      BAPTIST MEDICAL CENTER  BEACHES\n",
       "893                             TREASURE VALLEY HOSPITAL\n",
       "957                            DECATUR MEMORIAL HOSPITAL\n",
       "1105                            COMMUNITY HOSPITAL NORTH\n",
       "1195                           KANSAS SPINE HOSPITAL LLC\n",
       "1218                   ST ELIZABETH MEDICAL CENTER NORTH\n",
       "1248                            WESTERN BAPTIST HOSPITAL\n",
       "1349                     SPECIALISTS HOSPITAL SHREVEPORT\n",
       "1392                         ANNE ARUNDEL MEDICAL CENTER\n",
       "1435                          NORTH SHORE MEDICAL CENTER\n",
       "1542                 ST JOHN HOSPITAL AND MEDICAL CENTER\n",
       "1708                    ST JOHN'S REGIONAL HEALTH CENTER\n",
       "1790                       MIDWEST SURGICAL HOSPITAL LLC\n",
       "1827                HACKENSACK UNIVERSITY MEDICAL CENTER\n",
       "1870                   SAINT PETER'S UNIVERSITY HOSPITAL\n",
       "1875                       UNDERWOOD - MEMORIAL HOSPITAL\n",
       "1943                         FAXTON-ST LUKE'S HEALTHCARE\n",
       "2040                          WESTCHESTER MEDICAL CENTER\n",
       "2051                                MERCY MEDICAL CENTER\n",
       "2207                 UNIVERSITY OF TOLEDO MEDICAL CENTER\n",
       "2226                          ROBINSON MEMORIAL HOSPITAL\n",
       "2351                             TAHLEQUAH CITY HOSPITAL\n",
       "2385                    TULSA SPINE & SPECIALTY HOSPITAL\n",
       "2421                    WILLAMETTE VALLEY MEDICAL CENTER\n",
       "2493                    HOSPITAL OF UNIV OF PENNSYLVANIA\n",
       "2558                     MILTON S HERSHEY MEDICAL CENTER\n",
       "2772                               LAREDO MEDICAL CENTER\n",
       "2802                             BAYSHORE MEDICAL CENTER\n",
       "2837                       PARIS REGIONAL MEDICAL CENTER\n",
       "2909                 METHODIST RICHARDSON MEDICAL CENTER\n",
       "2964                    CYPRESS FAIRBANKS MEDICAL CENTER\n",
       "2978                    TOPS SURGICAL SPECIALTY HOSPITAL\n",
       "2988                   NORTHWEST HILLS SURGICAL HOSPITAL\n",
       "3013                      TEXAS SPINE AND JOINT HOSPITAL\n",
       "3028    TEXAS HEALTH HARRIS METHODIST HOSPITAL SOUTHLAKE\n",
       "3032                       PINE CREEK MEDICAL CENTER LLP\n",
       "3056                   THE ORTHOPEDIC SPECIALTY HOSPITAL\n",
       "3083                          THE FAUQUIER HOSPITAL, INC\n",
       "3095                             PRINCE WILLIAM HOSPITAL\n",
       "3096                              SENTARA LEIGH HOSPITAL\n",
       "3211                                   WHEELING HOSPITAL\n",
       "3280                             ORTHOPAEDIC HSPTL OF WI\n",
       "3322         FOUNDATION SURGICAL HOSPITAL OF SAN ANTONIO\n",
       "Name: Provider_Name, dtype: object"
      ]
     },
     "execution_count": 73,
     "metadata": {},
     "output_type": "execute_result"
    }
   ],
   "source": [
    "df_anomaly.Provider_Name"
   ]
  },
  {
   "cell_type": "markdown",
   "metadata": {},
   "source": [
    "## Summary"
   ]
  },
  {
   "cell_type": "markdown",
   "metadata": {},
   "source": [
    "Autoencoder gives a list of 180 hospitals while IForest gives 69. Result from these two methods is very similar with the results of KNN."
   ]
  }
 ],
 "metadata": {
  "kernelspec": {
   "display_name": "Python 3",
   "language": "python",
   "name": "python3"
  },
  "language_info": {
   "codemirror_mode": {
    "name": "ipython",
    "version": 3
   },
   "file_extension": ".py",
   "mimetype": "text/x-python",
   "name": "python",
   "nbconvert_exporter": "python",
   "pygments_lexer": "ipython3",
   "version": "3.7.2"
  }
 },
 "nbformat": 4,
 "nbformat_minor": 2
}
